{
  "nbformat": 4,
  "nbformat_minor": 0,
  "metadata": {
    "colab": {
      "name": "Sentiment_Analyzer_Engine.ipynb",
      "provenance": [],
      "collapsed_sections": [],
      "authorship_tag": "ABX9TyOjwEWydQGp/mf5WBxHAhCz",
      "include_colab_link": true
    },
    "kernelspec": {
      "name": "python3",
      "display_name": "Python 3"
    },
    "language_info": {
      "name": "python"
    }
  },
  "cells": [
    {
      "cell_type": "markdown",
      "metadata": {
        "id": "view-in-github",
        "colab_type": "text"
      },
      "source": [
        "<a href=\"https://colab.research.google.com/github/sahilfaizal01/Twitter-Sentiment-Analyzer-Engine/blob/main/Sentiment_Analyzer_Engine.ipynb\" target=\"_parent\"><img src=\"https://colab.research.google.com/assets/colab-badge.svg\" alt=\"Open In Colab\"/></a>"
      ]
    },
    {
      "cell_type": "code",
      "source": [
        "import numpy as np\n",
        "import tweepy,re\n",
        "import pandas as pd\n",
        "from textblob import TextBlob\n",
        "import matplotlib.pyplot as plt\n",
        "from nltk.tokenize import word_tokenize\n",
        "from nltk.stem import WordNetLemmatizer\n",
        "from nltk.corpus import stopwords"
      ],
      "metadata": {
        "id": "iyjKhlVo11sf"
      },
      "execution_count": 29,
      "outputs": []
    },
    {
      "cell_type": "code",
      "source": [
        "#Authentication\n",
        "bearerToken = 'AAAAAAAAAAAAAAAAAAAAAKolfQEAAAAA3zSEtbLtLV1Jyq%2BkFwmBtI8YNVQ%3DzbfGBBwBZOfuf51KD0TnL3LVKjpteSPEDB2SiR4O5i0KKsVDJV'"
      ],
      "metadata": {
        "id": "i3gK3me85_Ec"
      },
      "execution_count": 30,
      "outputs": []
    },
    {
      "cell_type": "code",
      "source": [
        "#Put your Bearer Token in the parenthesis below\n",
        "client = tweepy.Client(bearer_token=bearerToken)"
      ],
      "metadata": {
        "id": "4MgT_bOUOvQs"
      },
      "execution_count": 31,
      "outputs": []
    },
    {
      "cell_type": "code",
      "source": [
        "query = '#SSR -is:retweet lang:en'\n",
        "tweets = tweepy.Paginator(client.search_recent_tweets, query=query,\n",
        "                              tweet_fields=['context_annotations', 'created_at'], max_results=100).flatten(limit=1000)"
      ],
      "metadata": {
        "id": "VGg5R0dmOqLD"
      },
      "execution_count": 32,
      "outputs": []
    },
    {
      "cell_type": "code",
      "source": [
        "tweet_list = [tweet.text for tweet in tweets]\n",
        "tweet_df = pd.DataFrame(tweet_list)\n",
        "tweet_df"
      ],
      "metadata": {
        "colab": {
          "base_uri": "https://localhost:8080/",
          "height": 424
        },
        "id": "ZgTra_uc5_JB",
        "outputId": "66ec5b94-cd82-46d2-962a-d6bbfef0dffe"
      },
      "execution_count": 33,
      "outputs": [
        {
          "output_type": "execute_result",
          "data": {
            "text/plain": [
              "                                                     0\n",
              "0    This disgraceful act can never be reversed. #A...\n",
              "1    @DireARTOfGod This disgraceful act can never b...\n",
              "2    The T-shirt in question carries the caption 'D...\n",
              "3    @AUC_PAPS, @AfricaDCAF and @issat_dcaf jointly...\n",
              "4    'Spreading false hood': Sushant Singh Rajput f...\n",
              "..                                                 ...\n",
              "387  @mohakmangal Sushant Harbinger Of Change | Fac...\n",
              "388  Sushant Harbinger Of Change | Fact Check of Wh...\n",
              "389  Contd: #PartialHanging \\n\\n#SSR was KNEELING o...\n",
              "390  After defeat of Karan Johar's JJJ, Aadhi Chopr...\n",
              "391  Why is #SSR still trending?\\n\\nWatch: https://...\n",
              "\n",
              "[392 rows x 1 columns]"
            ],
            "text/html": [
              "\n",
              "  <div id=\"df-f48cde6f-db97-4c86-94fe-5e35bb7fed46\">\n",
              "    <div class=\"colab-df-container\">\n",
              "      <div>\n",
              "<style scoped>\n",
              "    .dataframe tbody tr th:only-of-type {\n",
              "        vertical-align: middle;\n",
              "    }\n",
              "\n",
              "    .dataframe tbody tr th {\n",
              "        vertical-align: top;\n",
              "    }\n",
              "\n",
              "    .dataframe thead th {\n",
              "        text-align: right;\n",
              "    }\n",
              "</style>\n",
              "<table border=\"1\" class=\"dataframe\">\n",
              "  <thead>\n",
              "    <tr style=\"text-align: right;\">\n",
              "      <th></th>\n",
              "      <th>0</th>\n",
              "    </tr>\n",
              "  </thead>\n",
              "  <tbody>\n",
              "    <tr>\n",
              "      <th>0</th>\n",
              "      <td>This disgraceful act can never be reversed. #A...</td>\n",
              "    </tr>\n",
              "    <tr>\n",
              "      <th>1</th>\n",
              "      <td>@DireARTOfGod This disgraceful act can never b...</td>\n",
              "    </tr>\n",
              "    <tr>\n",
              "      <th>2</th>\n",
              "      <td>The T-shirt in question carries the caption 'D...</td>\n",
              "    </tr>\n",
              "    <tr>\n",
              "      <th>3</th>\n",
              "      <td>@AUC_PAPS, @AfricaDCAF and @issat_dcaf jointly...</td>\n",
              "    </tr>\n",
              "    <tr>\n",
              "      <th>4</th>\n",
              "      <td>'Spreading false hood': Sushant Singh Rajput f...</td>\n",
              "    </tr>\n",
              "    <tr>\n",
              "      <th>...</th>\n",
              "      <td>...</td>\n",
              "    </tr>\n",
              "    <tr>\n",
              "      <th>387</th>\n",
              "      <td>@mohakmangal Sushant Harbinger Of Change | Fac...</td>\n",
              "    </tr>\n",
              "    <tr>\n",
              "      <th>388</th>\n",
              "      <td>Sushant Harbinger Of Change | Fact Check of Wh...</td>\n",
              "    </tr>\n",
              "    <tr>\n",
              "      <th>389</th>\n",
              "      <td>Contd: #PartialHanging \\n\\n#SSR was KNEELING o...</td>\n",
              "    </tr>\n",
              "    <tr>\n",
              "      <th>390</th>\n",
              "      <td>After defeat of Karan Johar's JJJ, Aadhi Chopr...</td>\n",
              "    </tr>\n",
              "    <tr>\n",
              "      <th>391</th>\n",
              "      <td>Why is #SSR still trending?\\n\\nWatch: https://...</td>\n",
              "    </tr>\n",
              "  </tbody>\n",
              "</table>\n",
              "<p>392 rows × 1 columns</p>\n",
              "</div>\n",
              "      <button class=\"colab-df-convert\" onclick=\"convertToInteractive('df-f48cde6f-db97-4c86-94fe-5e35bb7fed46')\"\n",
              "              title=\"Convert this dataframe to an interactive table.\"\n",
              "              style=\"display:none;\">\n",
              "        \n",
              "  <svg xmlns=\"http://www.w3.org/2000/svg\" height=\"24px\"viewBox=\"0 0 24 24\"\n",
              "       width=\"24px\">\n",
              "    <path d=\"M0 0h24v24H0V0z\" fill=\"none\"/>\n",
              "    <path d=\"M18.56 5.44l.94 2.06.94-2.06 2.06-.94-2.06-.94-.94-2.06-.94 2.06-2.06.94zm-11 1L8.5 8.5l.94-2.06 2.06-.94-2.06-.94L8.5 2.5l-.94 2.06-2.06.94zm10 10l.94 2.06.94-2.06 2.06-.94-2.06-.94-.94-2.06-.94 2.06-2.06.94z\"/><path d=\"M17.41 7.96l-1.37-1.37c-.4-.4-.92-.59-1.43-.59-.52 0-1.04.2-1.43.59L10.3 9.45l-7.72 7.72c-.78.78-.78 2.05 0 2.83L4 21.41c.39.39.9.59 1.41.59.51 0 1.02-.2 1.41-.59l7.78-7.78 2.81-2.81c.8-.78.8-2.07 0-2.86zM5.41 20L4 18.59l7.72-7.72 1.47 1.35L5.41 20z\"/>\n",
              "  </svg>\n",
              "      </button>\n",
              "      \n",
              "  <style>\n",
              "    .colab-df-container {\n",
              "      display:flex;\n",
              "      flex-wrap:wrap;\n",
              "      gap: 12px;\n",
              "    }\n",
              "\n",
              "    .colab-df-convert {\n",
              "      background-color: #E8F0FE;\n",
              "      border: none;\n",
              "      border-radius: 50%;\n",
              "      cursor: pointer;\n",
              "      display: none;\n",
              "      fill: #1967D2;\n",
              "      height: 32px;\n",
              "      padding: 0 0 0 0;\n",
              "      width: 32px;\n",
              "    }\n",
              "\n",
              "    .colab-df-convert:hover {\n",
              "      background-color: #E2EBFA;\n",
              "      box-shadow: 0px 1px 2px rgba(60, 64, 67, 0.3), 0px 1px 3px 1px rgba(60, 64, 67, 0.15);\n",
              "      fill: #174EA6;\n",
              "    }\n",
              "\n",
              "    [theme=dark] .colab-df-convert {\n",
              "      background-color: #3B4455;\n",
              "      fill: #D2E3FC;\n",
              "    }\n",
              "\n",
              "    [theme=dark] .colab-df-convert:hover {\n",
              "      background-color: #434B5C;\n",
              "      box-shadow: 0px 1px 3px 1px rgba(0, 0, 0, 0.15);\n",
              "      filter: drop-shadow(0px 1px 2px rgba(0, 0, 0, 0.3));\n",
              "      fill: #FFFFFF;\n",
              "    }\n",
              "  </style>\n",
              "\n",
              "      <script>\n",
              "        const buttonEl =\n",
              "          document.querySelector('#df-f48cde6f-db97-4c86-94fe-5e35bb7fed46 button.colab-df-convert');\n",
              "        buttonEl.style.display =\n",
              "          google.colab.kernel.accessAllowed ? 'block' : 'none';\n",
              "\n",
              "        async function convertToInteractive(key) {\n",
              "          const element = document.querySelector('#df-f48cde6f-db97-4c86-94fe-5e35bb7fed46');\n",
              "          const dataTable =\n",
              "            await google.colab.kernel.invokeFunction('convertToInteractive',\n",
              "                                                     [key], {});\n",
              "          if (!dataTable) return;\n",
              "\n",
              "          const docLinkHtml = 'Like what you see? Visit the ' +\n",
              "            '<a target=\"_blank\" href=https://colab.research.google.com/notebooks/data_table.ipynb>data table notebook</a>'\n",
              "            + ' to learn more about interactive tables.';\n",
              "          element.innerHTML = '';\n",
              "          dataTable['output_type'] = 'display_data';\n",
              "          await google.colab.output.renderOutput(dataTable, element);\n",
              "          const docLink = document.createElement('div');\n",
              "          docLink.innerHTML = docLinkHtml;\n",
              "          element.appendChild(docLink);\n",
              "        }\n",
              "      </script>\n",
              "    </div>\n",
              "  </div>\n",
              "  "
            ]
          },
          "metadata": {},
          "execution_count": 33
        }
      ]
    },
    {
      "cell_type": "code",
      "source": [
        "tweet_df.shape"
      ],
      "metadata": {
        "colab": {
          "base_uri": "https://localhost:8080/"
        },
        "id": "3Yt2jH5R5_La",
        "outputId": "7167c430-8eec-4dd0-e9c8-25f66fe00b18"
      },
      "execution_count": 34,
      "outputs": [
        {
          "output_type": "execute_result",
          "data": {
            "text/plain": [
              "(392, 1)"
            ]
          },
          "metadata": {},
          "execution_count": 34
        }
      ]
    },
    {
      "cell_type": "code",
      "source": [
        "def clean_data(text):\n",
        "    return ' '.join(re.sub(\"(@[a-zA-Z0-9]+)|([^0-9A-Za-z])|(https://[\\w.]+/[\\w]+)\", \" \", text).split())\n",
        "\n",
        "tweet_df['cleaned_data'] = tweet_df[0].apply(clean_data)"
      ],
      "metadata": {
        "id": "bW1R-J7L5_Nw"
      },
      "execution_count": 35,
      "outputs": []
    },
    {
      "cell_type": "code",
      "source": [
        "tweet_df.head()"
      ],
      "metadata": {
        "colab": {
          "base_uri": "https://localhost:8080/",
          "height": 206
        },
        "id": "umbrLnGt5_Pz",
        "outputId": "143a99a7-a155-4874-aa69-780cbcc43544"
      },
      "execution_count": 36,
      "outputs": [
        {
          "output_type": "execute_result",
          "data": {
            "text/plain": [
              "                                                   0  \\\n",
              "0  This disgraceful act can never be reversed. #A...   \n",
              "1  @DireARTOfGod This disgraceful act can never b...   \n",
              "2  The T-shirt in question carries the caption 'D...   \n",
              "3  @AUC_PAPS, @AfricaDCAF and @issat_dcaf jointly...   \n",
              "4  'Spreading false hood': Sushant Singh Rajput f...   \n",
              "\n",
              "                                        cleaned_data  \n",
              "0  This disgraceful act can never be reversed Ama...  \n",
              "1  This disgraceful act can never be reversed Ama...  \n",
              "2  The T shirt in question carries the caption De...  \n",
              "3  PAPS and dcaf jointly organised a course on SS...  \n",
              "4  Spreading false hood Sushant Singh Rajput fans...  "
            ],
            "text/html": [
              "\n",
              "  <div id=\"df-b7cbcf57-8a07-40b9-bb99-93efe847278a\">\n",
              "    <div class=\"colab-df-container\">\n",
              "      <div>\n",
              "<style scoped>\n",
              "    .dataframe tbody tr th:only-of-type {\n",
              "        vertical-align: middle;\n",
              "    }\n",
              "\n",
              "    .dataframe tbody tr th {\n",
              "        vertical-align: top;\n",
              "    }\n",
              "\n",
              "    .dataframe thead th {\n",
              "        text-align: right;\n",
              "    }\n",
              "</style>\n",
              "<table border=\"1\" class=\"dataframe\">\n",
              "  <thead>\n",
              "    <tr style=\"text-align: right;\">\n",
              "      <th></th>\n",
              "      <th>0</th>\n",
              "      <th>cleaned_data</th>\n",
              "    </tr>\n",
              "  </thead>\n",
              "  <tbody>\n",
              "    <tr>\n",
              "      <th>0</th>\n",
              "      <td>This disgraceful act can never be reversed. #A...</td>\n",
              "      <td>This disgraceful act can never be reversed Ama...</td>\n",
              "    </tr>\n",
              "    <tr>\n",
              "      <th>1</th>\n",
              "      <td>@DireARTOfGod This disgraceful act can never b...</td>\n",
              "      <td>This disgraceful act can never be reversed Ama...</td>\n",
              "    </tr>\n",
              "    <tr>\n",
              "      <th>2</th>\n",
              "      <td>The T-shirt in question carries the caption 'D...</td>\n",
              "      <td>The T shirt in question carries the caption De...</td>\n",
              "    </tr>\n",
              "    <tr>\n",
              "      <th>3</th>\n",
              "      <td>@AUC_PAPS, @AfricaDCAF and @issat_dcaf jointly...</td>\n",
              "      <td>PAPS and dcaf jointly organised a course on SS...</td>\n",
              "    </tr>\n",
              "    <tr>\n",
              "      <th>4</th>\n",
              "      <td>'Spreading false hood': Sushant Singh Rajput f...</td>\n",
              "      <td>Spreading false hood Sushant Singh Rajput fans...</td>\n",
              "    </tr>\n",
              "  </tbody>\n",
              "</table>\n",
              "</div>\n",
              "      <button class=\"colab-df-convert\" onclick=\"convertToInteractive('df-b7cbcf57-8a07-40b9-bb99-93efe847278a')\"\n",
              "              title=\"Convert this dataframe to an interactive table.\"\n",
              "              style=\"display:none;\">\n",
              "        \n",
              "  <svg xmlns=\"http://www.w3.org/2000/svg\" height=\"24px\"viewBox=\"0 0 24 24\"\n",
              "       width=\"24px\">\n",
              "    <path d=\"M0 0h24v24H0V0z\" fill=\"none\"/>\n",
              "    <path d=\"M18.56 5.44l.94 2.06.94-2.06 2.06-.94-2.06-.94-.94-2.06-.94 2.06-2.06.94zm-11 1L8.5 8.5l.94-2.06 2.06-.94-2.06-.94L8.5 2.5l-.94 2.06-2.06.94zm10 10l.94 2.06.94-2.06 2.06-.94-2.06-.94-.94-2.06-.94 2.06-2.06.94z\"/><path d=\"M17.41 7.96l-1.37-1.37c-.4-.4-.92-.59-1.43-.59-.52 0-1.04.2-1.43.59L10.3 9.45l-7.72 7.72c-.78.78-.78 2.05 0 2.83L4 21.41c.39.39.9.59 1.41.59.51 0 1.02-.2 1.41-.59l7.78-7.78 2.81-2.81c.8-.78.8-2.07 0-2.86zM5.41 20L4 18.59l7.72-7.72 1.47 1.35L5.41 20z\"/>\n",
              "  </svg>\n",
              "      </button>\n",
              "      \n",
              "  <style>\n",
              "    .colab-df-container {\n",
              "      display:flex;\n",
              "      flex-wrap:wrap;\n",
              "      gap: 12px;\n",
              "    }\n",
              "\n",
              "    .colab-df-convert {\n",
              "      background-color: #E8F0FE;\n",
              "      border: none;\n",
              "      border-radius: 50%;\n",
              "      cursor: pointer;\n",
              "      display: none;\n",
              "      fill: #1967D2;\n",
              "      height: 32px;\n",
              "      padding: 0 0 0 0;\n",
              "      width: 32px;\n",
              "    }\n",
              "\n",
              "    .colab-df-convert:hover {\n",
              "      background-color: #E2EBFA;\n",
              "      box-shadow: 0px 1px 2px rgba(60, 64, 67, 0.3), 0px 1px 3px 1px rgba(60, 64, 67, 0.15);\n",
              "      fill: #174EA6;\n",
              "    }\n",
              "\n",
              "    [theme=dark] .colab-df-convert {\n",
              "      background-color: #3B4455;\n",
              "      fill: #D2E3FC;\n",
              "    }\n",
              "\n",
              "    [theme=dark] .colab-df-convert:hover {\n",
              "      background-color: #434B5C;\n",
              "      box-shadow: 0px 1px 3px 1px rgba(0, 0, 0, 0.15);\n",
              "      filter: drop-shadow(0px 1px 2px rgba(0, 0, 0, 0.3));\n",
              "      fill: #FFFFFF;\n",
              "    }\n",
              "  </style>\n",
              "\n",
              "      <script>\n",
              "        const buttonEl =\n",
              "          document.querySelector('#df-b7cbcf57-8a07-40b9-bb99-93efe847278a button.colab-df-convert');\n",
              "        buttonEl.style.display =\n",
              "          google.colab.kernel.accessAllowed ? 'block' : 'none';\n",
              "\n",
              "        async function convertToInteractive(key) {\n",
              "          const element = document.querySelector('#df-b7cbcf57-8a07-40b9-bb99-93efe847278a');\n",
              "          const dataTable =\n",
              "            await google.colab.kernel.invokeFunction('convertToInteractive',\n",
              "                                                     [key], {});\n",
              "          if (!dataTable) return;\n",
              "\n",
              "          const docLinkHtml = 'Like what you see? Visit the ' +\n",
              "            '<a target=\"_blank\" href=https://colab.research.google.com/notebooks/data_table.ipynb>data table notebook</a>'\n",
              "            + ' to learn more about interactive tables.';\n",
              "          element.innerHTML = '';\n",
              "          dataTable['output_type'] = 'display_data';\n",
              "          await google.colab.output.renderOutput(dataTable, element);\n",
              "          const docLink = document.createElement('div');\n",
              "          docLink.innerHTML = docLinkHtml;\n",
              "          element.appendChild(docLink);\n",
              "        }\n",
              "      </script>\n",
              "    </div>\n",
              "  </div>\n",
              "  "
            ]
          },
          "metadata": {},
          "execution_count": 36
        }
      ]
    },
    {
      "cell_type": "code",
      "source": [
        "def drop_numbers(list_text):\n",
        "    list_text_new = []\n",
        "    for i in list_text:\n",
        "        if not re.search('\\d', i):\n",
        "            list_text_new.append(i)\n",
        "    return ''.join(list_text_new)\n",
        "\n",
        "tweet_df['cleaned_data'] = tweet_df['cleaned_data'].apply(drop_numbers)"
      ],
      "metadata": {
        "id": "N4l4X6PX5_Rn"
      },
      "execution_count": 37,
      "outputs": []
    },
    {
      "cell_type": "code",
      "source": [
        "tweet_df.head()"
      ],
      "metadata": {
        "colab": {
          "base_uri": "https://localhost:8080/",
          "height": 206
        },
        "id": "mrW9InRl11wI",
        "outputId": "633004f3-967b-483c-e8fe-bbd7cbf0b399"
      },
      "execution_count": 38,
      "outputs": [
        {
          "output_type": "execute_result",
          "data": {
            "text/plain": [
              "                                                   0  \\\n",
              "0  This disgraceful act can never be reversed. #A...   \n",
              "1  @DireARTOfGod This disgraceful act can never b...   \n",
              "2  The T-shirt in question carries the caption 'D...   \n",
              "3  @AUC_PAPS, @AfricaDCAF and @issat_dcaf jointly...   \n",
              "4  'Spreading false hood': Sushant Singh Rajput f...   \n",
              "\n",
              "                                        cleaned_data  \n",
              "0  This disgraceful act can never be reversed Ama...  \n",
              "1  This disgraceful act can never be reversed Ama...  \n",
              "2  The T shirt in question carries the caption De...  \n",
              "3  PAPS and dcaf jointly organised a course on SS...  \n",
              "4  Spreading false hood Sushant Singh Rajput fans...  "
            ],
            "text/html": [
              "\n",
              "  <div id=\"df-73d8f319-15f9-4ac4-ac2a-fdf4b8d87077\">\n",
              "    <div class=\"colab-df-container\">\n",
              "      <div>\n",
              "<style scoped>\n",
              "    .dataframe tbody tr th:only-of-type {\n",
              "        vertical-align: middle;\n",
              "    }\n",
              "\n",
              "    .dataframe tbody tr th {\n",
              "        vertical-align: top;\n",
              "    }\n",
              "\n",
              "    .dataframe thead th {\n",
              "        text-align: right;\n",
              "    }\n",
              "</style>\n",
              "<table border=\"1\" class=\"dataframe\">\n",
              "  <thead>\n",
              "    <tr style=\"text-align: right;\">\n",
              "      <th></th>\n",
              "      <th>0</th>\n",
              "      <th>cleaned_data</th>\n",
              "    </tr>\n",
              "  </thead>\n",
              "  <tbody>\n",
              "    <tr>\n",
              "      <th>0</th>\n",
              "      <td>This disgraceful act can never be reversed. #A...</td>\n",
              "      <td>This disgraceful act can never be reversed Ama...</td>\n",
              "    </tr>\n",
              "    <tr>\n",
              "      <th>1</th>\n",
              "      <td>@DireARTOfGod This disgraceful act can never b...</td>\n",
              "      <td>This disgraceful act can never be reversed Ama...</td>\n",
              "    </tr>\n",
              "    <tr>\n",
              "      <th>2</th>\n",
              "      <td>The T-shirt in question carries the caption 'D...</td>\n",
              "      <td>The T shirt in question carries the caption De...</td>\n",
              "    </tr>\n",
              "    <tr>\n",
              "      <th>3</th>\n",
              "      <td>@AUC_PAPS, @AfricaDCAF and @issat_dcaf jointly...</td>\n",
              "      <td>PAPS and dcaf jointly organised a course on SS...</td>\n",
              "    </tr>\n",
              "    <tr>\n",
              "      <th>4</th>\n",
              "      <td>'Spreading false hood': Sushant Singh Rajput f...</td>\n",
              "      <td>Spreading false hood Sushant Singh Rajput fans...</td>\n",
              "    </tr>\n",
              "  </tbody>\n",
              "</table>\n",
              "</div>\n",
              "      <button class=\"colab-df-convert\" onclick=\"convertToInteractive('df-73d8f319-15f9-4ac4-ac2a-fdf4b8d87077')\"\n",
              "              title=\"Convert this dataframe to an interactive table.\"\n",
              "              style=\"display:none;\">\n",
              "        \n",
              "  <svg xmlns=\"http://www.w3.org/2000/svg\" height=\"24px\"viewBox=\"0 0 24 24\"\n",
              "       width=\"24px\">\n",
              "    <path d=\"M0 0h24v24H0V0z\" fill=\"none\"/>\n",
              "    <path d=\"M18.56 5.44l.94 2.06.94-2.06 2.06-.94-2.06-.94-.94-2.06-.94 2.06-2.06.94zm-11 1L8.5 8.5l.94-2.06 2.06-.94-2.06-.94L8.5 2.5l-.94 2.06-2.06.94zm10 10l.94 2.06.94-2.06 2.06-.94-2.06-.94-.94-2.06-.94 2.06-2.06.94z\"/><path d=\"M17.41 7.96l-1.37-1.37c-.4-.4-.92-.59-1.43-.59-.52 0-1.04.2-1.43.59L10.3 9.45l-7.72 7.72c-.78.78-.78 2.05 0 2.83L4 21.41c.39.39.9.59 1.41.59.51 0 1.02-.2 1.41-.59l7.78-7.78 2.81-2.81c.8-.78.8-2.07 0-2.86zM5.41 20L4 18.59l7.72-7.72 1.47 1.35L5.41 20z\"/>\n",
              "  </svg>\n",
              "      </button>\n",
              "      \n",
              "  <style>\n",
              "    .colab-df-container {\n",
              "      display:flex;\n",
              "      flex-wrap:wrap;\n",
              "      gap: 12px;\n",
              "    }\n",
              "\n",
              "    .colab-df-convert {\n",
              "      background-color: #E8F0FE;\n",
              "      border: none;\n",
              "      border-radius: 50%;\n",
              "      cursor: pointer;\n",
              "      display: none;\n",
              "      fill: #1967D2;\n",
              "      height: 32px;\n",
              "      padding: 0 0 0 0;\n",
              "      width: 32px;\n",
              "    }\n",
              "\n",
              "    .colab-df-convert:hover {\n",
              "      background-color: #E2EBFA;\n",
              "      box-shadow: 0px 1px 2px rgba(60, 64, 67, 0.3), 0px 1px 3px 1px rgba(60, 64, 67, 0.15);\n",
              "      fill: #174EA6;\n",
              "    }\n",
              "\n",
              "    [theme=dark] .colab-df-convert {\n",
              "      background-color: #3B4455;\n",
              "      fill: #D2E3FC;\n",
              "    }\n",
              "\n",
              "    [theme=dark] .colab-df-convert:hover {\n",
              "      background-color: #434B5C;\n",
              "      box-shadow: 0px 1px 3px 1px rgba(0, 0, 0, 0.15);\n",
              "      filter: drop-shadow(0px 1px 2px rgba(0, 0, 0, 0.3));\n",
              "      fill: #FFFFFF;\n",
              "    }\n",
              "  </style>\n",
              "\n",
              "      <script>\n",
              "        const buttonEl =\n",
              "          document.querySelector('#df-73d8f319-15f9-4ac4-ac2a-fdf4b8d87077 button.colab-df-convert');\n",
              "        buttonEl.style.display =\n",
              "          google.colab.kernel.accessAllowed ? 'block' : 'none';\n",
              "\n",
              "        async function convertToInteractive(key) {\n",
              "          const element = document.querySelector('#df-73d8f319-15f9-4ac4-ac2a-fdf4b8d87077');\n",
              "          const dataTable =\n",
              "            await google.colab.kernel.invokeFunction('convertToInteractive',\n",
              "                                                     [key], {});\n",
              "          if (!dataTable) return;\n",
              "\n",
              "          const docLinkHtml = 'Like what you see? Visit the ' +\n",
              "            '<a target=\"_blank\" href=https://colab.research.google.com/notebooks/data_table.ipynb>data table notebook</a>'\n",
              "            + ' to learn more about interactive tables.';\n",
              "          element.innerHTML = '';\n",
              "          dataTable['output_type'] = 'display_data';\n",
              "          await google.colab.output.renderOutput(dataTable, element);\n",
              "          const docLink = document.createElement('div');\n",
              "          docLink.innerHTML = docLinkHtml;\n",
              "          element.appendChild(docLink);\n",
              "        }\n",
              "      </script>\n",
              "    </div>\n",
              "  </div>\n",
              "  "
            ]
          },
          "metadata": {},
          "execution_count": 38
        }
      ]
    },
    {
      "cell_type": "code",
      "source": [
        "import nltk\n",
        "nltk.download('punkt')"
      ],
      "metadata": {
        "colab": {
          "base_uri": "https://localhost:8080/"
        },
        "id": "hZJjeyJWP7gO",
        "outputId": "94bd8d48-0a99-45df-bf83-dcd3595aa465"
      },
      "execution_count": 40,
      "outputs": [
        {
          "output_type": "stream",
          "name": "stderr",
          "text": [
            "[nltk_data] Downloading package punkt to /root/nltk_data...\n",
            "[nltk_data]   Unzipping tokenizers/punkt.zip.\n"
          ]
        },
        {
          "output_type": "execute_result",
          "data": {
            "text/plain": [
              "True"
            ]
          },
          "metadata": {},
          "execution_count": 40
        }
      ]
    },
    {
      "cell_type": "code",
      "source": [
        "# changing all the words of the reviews column to lowercase letters\n",
        "def lower_case(text):\n",
        "    text_words = word_tokenize(text)\n",
        "    text_words_lower = [x.lower() for x in text_words]\n",
        "    return ' '.join(text_words_lower)\n",
        "\n",
        "tweet_df['cleaned_data'] = tweet_df['cleaned_data'].apply(lower_case)"
      ],
      "metadata": {
        "id": "JHwzoQa-110c"
      },
      "execution_count": 41,
      "outputs": []
    },
    {
      "cell_type": "code",
      "source": [
        "nltk.download('wordnet')"
      ],
      "metadata": {
        "colab": {
          "base_uri": "https://localhost:8080/"
        },
        "id": "mdPZttf3115Q",
        "outputId": "70d2c3a6-d4e4-4e5b-d7e8-5091ce3c84f0"
      },
      "execution_count": 42,
      "outputs": [
        {
          "output_type": "stream",
          "name": "stderr",
          "text": [
            "[nltk_data] Downloading package wordnet to /root/nltk_data...\n"
          ]
        },
        {
          "output_type": "execute_result",
          "data": {
            "text/plain": [
              "True"
            ]
          },
          "metadata": {},
          "execution_count": 42
        }
      ]
    },
    {
      "cell_type": "code",
      "source": [
        "nltk.download('omw-1.4')"
      ],
      "metadata": {
        "colab": {
          "base_uri": "https://localhost:8080/"
        },
        "id": "lkPPInXRQHhe",
        "outputId": "a2ed2fc9-d023-413d-c534-f024b6f22f8c"
      },
      "execution_count": 44,
      "outputs": [
        {
          "output_type": "stream",
          "name": "stderr",
          "text": [
            "[nltk_data] Downloading package omw-1.4 to /root/nltk_data...\n"
          ]
        },
        {
          "output_type": "execute_result",
          "data": {
            "text/plain": [
              "True"
            ]
          },
          "metadata": {},
          "execution_count": 44
        }
      ]
    },
    {
      "cell_type": "code",
      "source": [
        "lemmatizer = WordNetLemmatizer()\n",
        "def lemmatise(text):\n",
        "    text_tokens = word_tokenize(text)\n",
        "    text_lemm = [lemmatizer.lemmatize(word) for word in text_tokens]\n",
        "    return ' '.join(text_lemm)\n",
        "\n",
        "tweet_df['cleaned_data'] = tweet_df['cleaned_data'].apply(lemmatise)"
      ],
      "metadata": {
        "id": "Io_q_rZbP30o"
      },
      "execution_count": 45,
      "outputs": []
    },
    {
      "cell_type": "code",
      "source": [
        "nltk.download('stopwords')"
      ],
      "metadata": {
        "colab": {
          "base_uri": "https://localhost:8080/"
        },
        "id": "VQNhWpYbQQmN",
        "outputId": "a4442e40-a2fc-4d3e-c40c-e2a3d4224062"
      },
      "execution_count": 48,
      "outputs": [
        {
          "output_type": "stream",
          "name": "stderr",
          "text": [
            "[nltk_data] Downloading package stopwords to /root/nltk_data...\n",
            "[nltk_data]   Unzipping corpora/stopwords.zip.\n"
          ]
        },
        {
          "output_type": "execute_result",
          "data": {
            "text/plain": [
              "True"
            ]
          },
          "metadata": {},
          "execution_count": 48
        }
      ]
    },
    {
      "cell_type": "code",
      "source": [
        "def remove_stopword(text):\n",
        "    text_tokens = word_tokenize(text)\n",
        "    tokens = [word for word in text_tokens if not word in set(stopwords.words('english'))]\n",
        "    tokens_text = ' '.join(tokens)\n",
        "    return tokens_text\n",
        "\n",
        "tweet_df['cleaned_data'] = tweet_df['cleaned_data'].apply(remove_stopword)"
      ],
      "metadata": {
        "id": "nDMsp6WKQLJP"
      },
      "execution_count": 49,
      "outputs": []
    },
    {
      "cell_type": "code",
      "source": [
        "tweet_df['cleaned_data'].values"
      ],
      "metadata": {
        "colab": {
          "base_uri": "https://localhost:8080/"
        },
        "id": "jQEVTI1SP3_P",
        "outputId": "7b82db63-4afb-463b-d4fb-000476a30cb3"
      },
      "execution_count": 46,
      "outputs": [
        {
          "output_type": "execute_result",
          "data": {
            "text/plain": [
              "array(['this disgraceful act can never be reversed amazon ha shown how low an e commerce platform can stoop to get r fame amp defame a national hero whose brutal murder ha shaken up people around the globe ssr movement ha brought down a cartel like bullywood next is',\n",
              "       'this disgraceful act can never be reversed amazon ha shown how low an e commerce platform can stoop to get r fame amp defame a national hero whose brutal murder ha shaken up people around the globe ssr movement ha brought down a cartel like bullywood next is',\n",
              "       'the t shirt in question carry the caption depression is like drowning with a picture of the late actor sushant singh rajput flipkart ssr sushantsinghrajput',\n",
              "       'pap and dcaf jointly organised a course on ssr for au member state topic such a the au ssr policy framework national ownership and strategic planning were discussed albertg',\n",
              "       'spreading false hood sushant singh rajput fan trend boycottflipkart over t shirt design here s why ssr sushantsinghrajput sushant boycottflipkart flipkart news truescoop truesccopnews',\n",
              "       'dear sir i wa a huge bollywood fan before covid hit u but people have developed a new taste due to proliferation of ott content bollywood must revamp itself first ssr case nepotism lack of new idea and monopoly of big production house are the main culprit',\n",
              "       'we supported cause your an indian brand now iam uninstalling your app cause of one reason ssr depression is not a joke atleast not make fun of it',\n",
              "       'what the are you doing boycottamazon ssr',\n",
              "       'fastest k like in tier actor in tollywood bimbisara min acharya min liger min lovestory min ssr min',\n",
              "       'we recently featured a blog post on ukraine s defence reform process with all it legal challenge and political breakthrough the issat blog provides timely material from the field of ssr you can find the post here',\n",
              "       'hey are we really going to continue taking a shit on ssr rule and short on no upstick darkpool daily and all sort of dirt happening with bbig get the damn doj involved now',\n",
              "       'tollywood fastest k k liked trailer tier fastest k bimbisara min acharya min liger min lovestory min ssr nani min fastest k bimbisara min acharya min liger min lovestory min ssr min',\n",
              "       'tollywood fastest k k liked trailer tier fastest k bimbisara min acharya min liger min lovestory min ssr nani min fastest k bimbisara min acharya min liger min lovestory min ssr min',\n",
              "       'tollywood fastest k k liked trailer tier fastest k bimbisara min acharya min liger min lovestory min ssr nani min fastest k bimbisara min acharya min liger min lovestory min ssr min',\n",
              "       'late bollywood actor sushantsinghrajput s fan are angry amp have shared screenshots of a t shirt allegedly being sold on featuring photo of ssr along with the message depression is like drowning flipkart boycottflipkart sushantsinghrajput ssr',\n",
              "       'bollywood ram naam satya hai with audio please listen ssr sushantsinghrajput justice bollywood boycottshamshera boycottbollywood boycottbollywoodforever ssrians dilbechara dhoni lalsinghchaddha laalsinghchaddhaonaug',\n",
              "       'tollywood fastest k k liked trailer tier fastest k bimbisara min acharya min liger min lovestory min ssr nani min fastest k bimbisara min acharya min liger min lovestory min ssr min',\n",
              "       'tollywood fastest k k liked trailer tier fastest k bimbisara min acharya min liger min lovestory min ssr nani min fastest k bimbisara min acharya min liger min lovestory min ssr min',\n",
              "       'sushant singh rajput fan are angry and have shared screenshots of a t shirt allegedly being sold on flipkart featuring a photo of the late actor along with the message depression is like drowning sushantsinghrajput sushantsingh flipkart tshirt ssr',\n",
              "       'boycott flipkart began trending on twitter after a t shirt wa found on the website including artwork of sushantsinghrajput with the word depression like drowning ssr flipkart thread',\n",
              "       'nobody give a fcuk about ssr',\n",
              "       'boycottflipkart trend on twitter over t shirt with sushant singh rajput s face flipkart boycottflipkart ssr',\n",
              "       'shameful business campaign a man who is no more is being insulted like this ssr wa genuine amp lively human being feel his critic r in depression that how can a man hv such an aura that evn after leaving this world he is presnt in heart boycottamazon boycottflipkart',\n",
              "       'sushant singh rajput fan call for boycott flipkart a they spot a t shirt referring to ssr s depression on sale netizens say sushantsinghrajput ssr bollywood mentalhealth flipkart koimoi',\n",
              "       'me abhi flipkart app ko uninstall kiya because i love ssr boycottflipkart',\n",
              "       'a tshirt with the picture of sushantsinghrajput captioned depression is like drowning ha been put for sale on flipkart boycottflipkart ssr sushantsr',\n",
              "       'well said choose your hero wisely subneerajchopra ssr boycottranveersingh',\n",
              "       'where is bmac when you need it oldschool ssr bydv',\n",
              "       'since i have stopped watching movie theatre home let s invest in our dream it s not a performing art industry but a cancer cartel killing u day by day ssr is the reason we are awakened amp india must stop watching this cancer east west north south',\n",
              "       'since i have stopped watching movie theatre home let s invest in our dream it s not a performing art industry but a cancer cartel killing u day by day ssr is the reason we are awakened amp india must stop watching this cancer east west north south',\n",
              "       'lately after the demise of ssr bollywood ha entered into an audience appeasement zone like joint casting of southernwood industry creating more patriotic content making an outsider lead on screen temporarily etc this highlight how insecure bollywood is boycott it',\n",
              "       'on this is pathetic absolute bottom of human pit like behavior shameless smear campaign against ssr',\n",
              "       'vintage ssrajamouli about nagarjuna cult chain scene and it impact on his movie nagarjunaakkineni ssr shiva',\n",
              "       'this youtuber ha k to k view on the very video but on sushantsinghrajput video he ha lakh view with ad how shameless anuragbisht used ssr s name to earn money and now ha a monthly income of lac only from video such a shame boycottflipkart',\n",
              "       'boycottflipkart i am cancelling my order from flipkart a they play with the feeling to get more proffit ssr is in our heart don t blame u for boycotting',\n",
              "       'successfully uninstalled flipkart ssr boycottflipkart',\n",
              "       'boycott flipkart started trending on twitter on tuesday evening after a t shirt referring to late actor sushant singh rajput s depression wa found listed on the site by the late actor s fan kiddaan boycottflipkart ssr sushantsinghrajput',\n",
              "       'this tshirt alone ha more iq combined than the whole of bollywood don t be a jerk amp remove the tshirt where u r maligning ssr s name the queen of depression is best fit for such tshirts smear campaign against ssr boycottflipkart',\n",
              "       't shirt with sushantsinghrajput s on flipkart leaf netizens furious boycottflipkart trend on twitter ssr bollywood bollywoodactor ssrdeath',\n",
              "       'cbienquiryforsushant justiceforsushant sushantsingrajput ssr sushant can t commit suicide it must be planned murder we want cbi enquiry for sushant singh rajpu',\n",
              "       't shirt with sushant singh rajput s photo trigger boycottflipkart on twitter boycottflipkart humanityfirst ssr',\n",
              "       'boycottflipkart cancelled all my order from flipkart and uninstalled immediately bye bye flipkard you re dead cat now ssr life on boycottflipkart',\n",
              "       'plz correct it tragic death to treacherous murder of sushantsinghrajput ssr didn t die he wa killed',\n",
              "       'thank god you are talking about something ssr',\n",
              "       'i miss the batch gang that i wa a part of those people chat amp interaction pending message amp everything that i used to look forward to after the essence amp that vibe just seems to fade away iykyk i pray you every day ssr',\n",
              "       'boycottflipkart trend on twitter a t shirt with sushantsinghrajput s photo along with depression written on it make a way into the market people call it a cheap marketing tactic what you guy think ssr sushantsinghrajput sushant flipkart actor',\n",
              "       'boycottflipkart trend a t shirt with sushantsinghrajput s photo along with depression written on it make a way into the market people call it a cheap marketing tactic what you guy think ssr sushantsinghrajput sushant flipkart actor bollywood celeb chipkumedia',\n",
              "       'merchandise ha unacceptable artwork attributed to depression ethically wrong a it hit lowest note aimed at those who need help morally wrong associating depression to ssr exploiting his tragic end to sell pls note kalyan k how can you allow this',\n",
              "       'my call to cbi regarding in sushantsinghrajput ssr mu de case everyone should call amp request them to file in ssr case',\n",
              "       'it s completely a propaganda every know sushantsinghrajput wa brutally murdered by drugiewood amp till now they r facing wrath of audience so to come out from this spiral they did this amp depression is not a fancy word which u use like this ssr not depressed boycottflipkart',\n",
              "       'ssr fan run this trend this should be stopped here ssr ssrfans',\n",
              "       'kriti sanon get special birthday wish from kartik aaryan from your shehzada reminds me of ssr',\n",
              "       'boycottflipkart yet another low for with the ssr tshirtas if it s careless attitude twds customer wasn t enuf focus ur creativity on solving consumer problem and not this',\n",
              "       'no thank u ssr boycottbollywood',\n",
              "       'no thank u ssr boycottbollywood',\n",
              "       't shirt referring to sushant singh rajput s depression irks fan boycottflipkart trend on twitter sushantsinghrajput sushantsinghrajput ssr boycottflipkart flipkart bollywood boycottbollywood dilbechara',\n",
              "       'boycottflipkart trend on twitter after t shirt referring to sushantsinghrajput s depression make it to the e commerce site sushantsr ssr flipkart bollywood viral',\n",
              "       'perfect morning with sush s inspiring quote ssr justiceforsushantsinghrajput',\n",
              "       'it s not enough for hindi public to have flopped shamshera and jugjugjeeo karan johar amp cohort punjabi thug adi chopra must be nailed down amp captured with parambirsingh mva crushed now arrestbollywoodthugs too sameet ssr',\n",
              "       'have you met with duggy j one shot optimization and more between ourselves ssr framework reactjs programming softwaredeveloper seo google',\n",
              "       'so i created a second account and this is what just happened tearsofthemis tearsofthemisanniversary mariusvonhagen ssr expressionthroughart',\n",
              "       'apparently the same t shirt is also available on amazon india but ssr bot don t get that shit this is a well orchestrated drama and nothing else to target certain individual and business',\n",
              "       'ssr bot are back with another outrage and spamming boycottflipkart on the reason is simple a t shirt with an illustrated face of sushant singh rajput and text containing the word depression is being sold on flipkart get a life idiot',\n",
              "       'boycottflipkart bwkilledssrdreamproject ssr sushantsinghrajput sushantsinghrajput flipkart flipkartssr sushant m dreamer achiever',\n",
              "       'ssr saaar ki keemat with discount lagyi hai flipkart ne aur bot bechare boycottflipkart me busy hai',\n",
              "       'some news about the game check this out videogames youtube indiedev indiegame gamedev steam gaming gamer game update ssr sinking iceberg',\n",
              "       'ssr exist',\n",
              "       'go broly go go broly dokkan tun lr dbl ssr kakarot gohan vegeta piccolo',\n",
              "       'cbienquiryforsushant justiceforsushant sushantsingrajput ssr sushant can t commit suicide it must be planned murder we want cbi enquiry for sushant singh rajpu',\n",
              "       'they have already proven that they are totally following the western culture and demolishing our thousand of year old great indian culture let s begin the campaign again to boycottbollywood on a serous note ranveersingh sushantsinghrajput ssr',\n",
              "       'please do share the link ramaraoonduty ramaraoondutytrailer ramcharan jrntr mega alluarjun chiranjeevi nagarjunaakkineni ssrajamouli ssr sukumar agent hyderabad telangana',\n",
              "       'i think that t shirt with ssr and some stupid quote is on seller and not on flipkart so why boycottflipkart ask them to punish the seller banning the seller would be more appropriate instead of destroying other s bread and butter',\n",
              "       'can t blv such a big retail chain can hit below the belt depression such painful world being used for ssr who is no more in this material world shame flipkart boycottflipkart',\n",
              "       'boycottflipkart never used fakekart but i support trend for ssr',\n",
              "       'jse ssr ke murder ko suicide',\n",
              "       'ssr ncb latest update shamsera flop and more via',\n",
              "       'i see that karma hit hard and karma hit back they snatched away an innocent life now audience ha punished them ssr ha got poetic justice finally just wait for some more time a ott will finish them completely ssr ssrians justiceforssr',\n",
              "       'their own name plate ha lost credit worthy ground thus indirect investing amp diversifying their investment even getting into distribution of south movie for hindi belt let them be dependent of south movie leaving their home turf defeated by ssr army boycottbollywood',\n",
              "       'all update about mahesh babu and rajamouli film rajamouli ssr maheshbabu ssmb',\n",
              "       'doe anyone have a juniper ssr t lab let me know i want to discus something with you sdwan',\n",
              "       'what is a good adventure without a map you don t wan na get lost do ya ssr mattarhymes goosed adventure',\n",
              "       'audio exposed gang ssr wa m rdered and minister involved truth abou via ssrians ssr justicessr justiceforsushantsinghrajput cbi cbiforssr sushantsinghrajput justiceforsushantsinghrajput justiceforssr cbi',\n",
              "       'great validation of the ssr solution from our friend at ibm ssr sdwan',\n",
              "       'u guy r soo cheap sushant wa brutally murdered got it not depressed kise baat ki knowledge nh kuch bhi bol dete hai i knw yh sab bw planning hoti hai di ap law ke andar rhker work karte ho right to plz strict action le ssr',\n",
              "       'aadityathackeray is accused of money laundering raping amp murdering dishasalian amp ssr high level investigation need to be done by cbi amp nia shivsena even imposed a fine of r on poor citizen of mumbai for simply breathing amp not wearing a mask ec should ban them',\n",
              "       'responsible party of governance where uddhavthackeray refused to step out of his house for year gave extortion target of crore to mumbai police son aadityathackeray accused of raping dishasalian amp murdering ssr citizen fined r for not wearing mask',\n",
              "       'just in case don t become another ssr',\n",
              "       'perla pat hariharan ujjwala ankahi o l i e subrahmanian periyava when can we see at in jail ssr dishasalian',\n",
              "       'amir who think india is not safest place to live is promoting his movie safely let these khan know what india can do to them boycottbollywood boycottbollywoodforever justiceforsushantsinghrajput justiceforssr sushantsinghrajput ssr ssrforever',\n",
              "       'amir who think india is not safest place to live is promoting his movie safely let these khan know what india can do to them boycottbollywood boycottbollywoodforever justiceforsushantsinghrajput justiceforssr sushantsinghrajput ssr ssrforever',\n",
              "       'bw killed ssr dreamprojects what ssr achieved in a very short time due to his hard work acting skill sharp acumen amp the fire to take risk by acting in dhoni biopic sonchiriya etc the bw people canno t even dream of achieving in life time swine boycottbollywood cbi',\n",
              "       'cbienquiryforsushant justiceforsushant sushantsingrajput ssr sushant can t commit suicide it must be planned murder we want cbi enquiry for sushant singh rajpu',\n",
              "       'and sushant singh rajput trend there many taglines hashtags everyday but he is constant bw killed ssr dreamprojects but they failed to killed his existence in one being they complot enomorous of conspiracy to extinguish him but eventually all fallen flat ssr is winning',\n",
              "       'miss yous sir ssr',\n",
              "       'crore anta fake promotion maadidru bro lost respect on ssr',\n",
              "       'streamingnow rrr is now streaming on audio available in tel tam kan mal cinemaaghar rrrmoive ramcharan tarak ssr',\n",
              "       'ssr soul won t rest till it fix every damn bullywood sabko n karega',\n",
              "       'happiness is a mood positivity is a mindset everything ssr justiceforsushantsinghrajput',\n",
              "       'n colony l mindset f police of s book ipc crpc thing hd been filled gora s hindu aft may m l feelthedifference if ncr court amp ka ssr to nishankrathore',\n",
              "       'perfect morning with sush s inspiring quote ssr justiceforsushantsinghrajput',\n",
              "       's lab on the move we are coming really excited to attend my first ssr meeting dream coming ture presenting my research on poster and co chairing a session reproductive immunology hoping to have a great time',\n",
              "       'at should be in jail dishasalian ssr',\n",
              "       'omshankara ssr memory shatters all god send justice for you ssr om shanti forevermore better late never destroy evil nia cbi ed ncb combined boycottbollywood boycottbreakingindiaforces jihad',\n",
              "       'cbienquiryforsushant justiceforsushant sushantsingrajput ssr sushant can t commit suicide it must be planned murder we want cbi enquiry for sushant singh rajpu',\n",
              "       'ssr for lyt off ww govx tblt style', 'govx ssr here',\n",
              "       'om shankara you tear my heart bring tear in my eye amp tear into my belief that god had send to do justice for you ssr om shanti shanti om forevermore for you hope better late destroys more evil than never',\n",
              "       'ssr sushantsinghrajput it yr of delbechara without ssr',\n",
              "       'adorable selfie with some lucky fan at jamshedpur irreplaceable ssr ssr justiceforsushantsinghrajput',\n",
              "       'yes sir you are right too but south cinema industry is still better than antihindu bollywood drugsparty drug culture which resulted death of ssr sushantsinghrajput justiceforssr justicefordishasalian justiceforsushantsinghrajput',\n",
              "       'if and only sushant singh rajput wa alive today i wouldn t have to beg to these million of unkind people for help ssr sushantsinghrajput justiceforsushantsinghrajput kindnessmatters',\n",
              "       'repeat after me boycott this depression druggie deepikapadukone along with her weirdo hubby ranveersingh boycottbollywood boycottpathaan one talented man ssr changed the whole scenario of bollywood boycottlalsinghchadda shahrukhkhan pathaan',\n",
              "       'i request everyone to keep reporting his channel chance are there he will get a strike and then his game is over channel terminated for now his ssr video is demonitised jaan nisaar hai sushant pe',\n",
              "       'indian navy recruitment ssr amp mr agniveer vacancy apply online last date',\n",
              "       'indian navy recruitment ssr amp mr agniveer vacancy apply online last date',\n",
              "       'boycottdeepikapadukone the druggie boycottpathan pathan these bullyweed isolated the great humanbeing and the real talent ssr now the karma is haunting and biting these bullywood ass what a satisfying experience to witness boycottbolywood shahrukhkhan',\n",
              "       'berlin like ssr lekapothe who is pebby annatta jaisimha cr share gpsk cr share lakshminarasimha cr share ivi anna boya movie eh na ra erripumka',\n",
              "       'hindu are shameless that they forgive dawoodwood nee karachiwood nee bollywood reigning king heartless abuse of hindu boy ssr and along with other m actor and pathaanfirstlook boycottbollywood',\n",
              "       'pov every middle class boy can feel this suhsantsingh ssr',\n",
              "       'hoping for justice to be delivered sooner or later justiceforsushantsinghrajput sushantsinghrajput ssr twitter tweet',\n",
              "       'sushant wa isolated dear ssr fan salute to your effort not even a single day without trending too for more than a year he ll definitely get justice truth always win',\n",
              "       'almost year have passed after ssr s death but still people aren t leaving his soul to rest in peace some whatsapp university topper are trending this ssr shushant',\n",
              "       'please watch ssr drive hindi session tomorrow th july pm requesting cbi to validate amp consider these drive for the ongoing investigation into ssr s death',\n",
              "       'ssr roar for sushantsinghrajput justiceforsushantsinghrajput',\n",
              "       'bag atth nationalawards producer amp ncks director cast c amp ditipriya music on by with titletrack by dop distributor ssr',\n",
              "       'actress sanjanasanghi took to instagram on sunday to share a post marking two year since the release of her film dilbechara in her note she said that she missed manny the character played by late actor sushantsinghrajput in the film allthattrending ssr',\n",
              "       'tool address the gap in knowledge and skill that hinder the involvement of westafrican civil society actor in public oversight of the security sector and provides csos with practical guidance on how to optimise the impact of their contribution to ssr and ssg',\n",
              "       'sushant wa isolated kept under house arrest without contact from family friend a prisoner who s every move wa monitored sad he wa reduced to a life like this n finally killed praying for strictest punishment for his killer sushantsinghrajput ssr',\n",
              "       'seriously tv debate presense are required for the central bureau of investigation to act what a shame when is cbi filling an honest amp logical chargesheet in ssr case month amp counting mtl sushant wa isolated association',\n",
              "       'we recently launched our new podcast series donor talk ssr senior ssr advisor with dcaf share his insight and experience on how to support people centred defence reform you can listen to the first episode here',\n",
              "       'king ssr akash innervoice koushani niksh kr sushant wa isolated bolywood naseri gazeri chara gaza weed joker jawan do w why sushant wa isolated bolywood naseri ka silent mean bolywood involve hai bolywood joker ki india ed india inveytigtion honi chaiye ssr case',\n",
              "       'wow the advice that nepo kid give each other dud sara made her debut with ssr bw wa petrified of sushant coz they didn t have what he ha honestly hard working quality boycottbollywood show them their aukat boycottlaalsinghchaddha mtl sushant wa isolated',\n",
              "       'my phone call to supreme court of india regarding update in sushantsinghrajput ssr case',\n",
              "       'cbi u have been investigating the ssr case for month amp u must know by now a to why sushant wa isolated fm his friend amp family u have questioned rheac amp his servant hour so when is the honest amp logical chargesheet being filed association',\n",
              "       'cbienquiryforsushant justiceforsushant sushantsingrajput ssr sushant can t commit suicide it must be planned murder we want cbi enquiry for sushant singh rajpu',\n",
              "       'time to remind arnob amp team amp bharat that india gave them it full support for their fearless investigative journalism in case they mustn t forget ssr is still waiting for justice arnob must get the truth out time is now',\n",
              "       'to transformation ssr',\n",
              "       'cinema died when ssr wa murd now live with that and let your colleague know',\n",
              "       'i think anti establishment is def more accurate because the target are diffuse and not specified if you look at the ssr movement the villain were always an unspecified cabal of bolly bigwig it s tough to say how much that ha affected the bottom line but it s a factor',\n",
              "       'still my favorite transformation from dbz broly lssj berserk dokkan dbl lr ssr sparking ultra',\n",
              "       'my dilbechara without ssr', 'miss u ssr',\n",
              "       'fan moment ssr justiceforsushantsinghrajput',\n",
              "       'yo listen up here s a story about a little guy that life in a blue world and all day and all night and everything he see is just blue like him inside and outside he s blue da ba dee da ba di if he wa green he would die da ba dee da ba di ssr star stargazezone',\n",
              "       'perfect morning with sush s inspiring quote ssr justiceforsushantsinghrajput',\n",
              "       'since year we are missing this acting ssr yearsofdilbechara',\n",
              "       'sushant wa isolated why starting from to early sushant began to disappear from public eye with few or hardly any noteworthy mention despite delivering blockbuster like kedarnath chhichhore amp a stellar performance in sonchiriya ssr',\n",
              "       'all update about mahesh babu and rajamouli film rajamouli ssr maheshbabu ssmb',\n",
              "       'clean but not simple s zx is more than meet the eye and look killer on ssr professor image accuair elevel bagged nismo zx widebody twinturbo jdm ssr stancenation slammed airride',\n",
              "       'eega wa experiment by ssr but i liked the film u should watch all ssr movie after magadheera',\n",
              "       'hiring ssr fullstack ruby on rail python developer',\n",
              "       'main tumhara manny miss you ssr dilbechara justiceforsushantsinghrajputhis',\n",
              "       'boycottbollywoodforever boycottbollywoodcompletely ssr murderer still roam scot free',\n",
              "       'ek samay tha with plotting amp planning they tortured killed sushantsinghrajput trapped him for year in a movie amp then released it on ott during the time of theatre to create a flop image of ssr now they at that point where no will see them even on ott boycottbollywood',\n",
              "       'cbienquiryforsushant justiceforsushant sushantsingrajput ssr sushant can t commit suicide it must be planned murder we want cbi enquiry for sushant singh rajpu',\n",
              "       'how we wish we cd show up those theatre bw ppl didn t let it release on indian theatre cruel they snatched our last chance to see sush on silver screen but that didn t hv any impact on the love we showered for dilbechara not evn a bit that s the power of ssr manny',\n",
              "       'new creation edited by and with the help of and for creation music ssr',\n",
              "       'same behavior bollywood have done with sushantsinghrajput but he didn t give up and burn all so called big name pratik will also shine like ssr one day and will burn this shetty unbreakable pratik sehajpal',\n",
              "       'i saw dil bechara year ago and i wa literally cry for half an hour thinking about it it wa having everything love drama comedy emotion one of the best performance of late ssr yearsofdilbechara',\n",
              "       'shamshera ssr ssrians waiting for justice',\n",
              "       'sushant ne jitna bhi seekha tha about acting he added every bit of it in this movie he s my fav since pavitrarishta time this is my nd fav movie of his after msd the untold story seriously yaar genuinely we lost a true gem ssr sushantsinghrajput dilbechara',\n",
              "       'justice for sushant singh rajput ssr justiceforssr',\n",
              "       'justice can wait opinion shall continue that s the sorry state of affair ssr fan have to go through justiceforsushantsinghrajput',\n",
              "       'soul ssr is watching he is infinity in all of u in our heart forever sad we can not get justice for him and it s taking forever but we have hope that the truth will come out har har mahadev',\n",
              "       'vikrant these guy sell their soul for penny s bollywood is nixed and full of nepotism and sleaze their people have double standard and the olden golden bollywood is no more the same it s a big bad world there learn from ssr death you will understand',\n",
              "       'swetha are film to pit gyi madam yes we won ssr',\n",
              "       'that tax paid by citizen are being used for making india safer and establishing a fair law and order process for all i would like for you to ask cbi the status on these pending case irrespective of which big famous people are involved ssr',\n",
              "       'referring to the death of sushant singh rajput jiah khan disha saliyan we are deeply disappointed with the pace of the investigation and the lack of professionalism shown by police department in maintaining the d cor of crime investigation ssr disha jiah jhanvikukreja',\n",
              "       'this string of tweet is about our disappointment in india s legal and judicial system we have had some high profile suspicious death which are being investigated by cbi sadly even year of investigation these case are still pending ssr',\n",
              "       'sharadmalhotra surbhichandna mohitmalik shehnaazgill ssr sidnaaz sidharthshukla shehnaazians sidnaazians karanjohar saiketanrao amp shivangikhedkar aka saishi are back with a bang in ishqhojayega enjoy like comment share n subscribe',\n",
              "       'my heart yr of dilbechara without ssr sushantsinghrajput ssr dilbechara sushantsinghrajput',\n",
              "       'dilbechara clock year sanjanasanghi get nostalgic remembers late co star sushantsinghrajput watch bollywood ssr',\n",
              "       'really missing real hero ssr sushantsinghrajput',\n",
              "       'sushant and sanjana had done one of their best work in dilbechara it touch our heart ssr sushantsinghrajput yearsofdilbechara trending trendingnow',\n",
              "       'learn from ssr make a movie with ram and shiva a main character they fight british and drove them away then see the result',\n",
              "       'dilbechara the last film of sushantsinghrajput wa released on july which taught u to live life to the fullest yr of dilbechara without ssr dilbechara manny kizie ssrians sanjanasanghi sushantsinghrajput ssr yearsofdilbechara yearsofssrasmanny',\n",
              "       'yr of dilbechara without ssr ssr dilbechara',\n",
              "       'yr of dilbechara without ssr ssr dilbechara yearsofsushantasmanny',\n",
              "       'day center break bobbilibramanna prathighatana yamudikimogudu ayam muddulamavaiah jvas gl chanti gm hitler pr master bb cv ssr kalisundamraa nsn indra yearsforindustryhitindra',\n",
              "       'yr of dilbechara without ssr sushant last movie a a thalaivar fan really worried abt the injustice happened to him even after yr so much protest trend etc truth will win someday we have to wait ssr dilbechara rajinikanth jailer highesttaxpayer rajini',\n",
              "       'let make this smile ever ending and his sparkels twinkilng in the sky dilbechara manny ssr yr of dilbechara without ssr',\n",
              "       'most liked trailer on youtube m like sushant bhaiya pure world mein only one piece ssr sushantsinghrajput dilbechara sanjanasanghi',\n",
              "       'seri sushantsinghrajput life is incomplete without u itna v kya gehri neend me sona ki saal mahine din hafte ghante minute second beet te chale ja rahe aur tujhe uthne ki fikr hi nhi ssr ssrians evr yr of dilbechara without ssr',\n",
              "       'this is actually very very true it is like a mission industry bigwig are clueless how to tackle this slide start off with a twitter trend and the movement just gather moss sometimes justifiably so but hurt the industry big time some say the curse of ssr',\n",
              "       'year of dil bechara yearsofdilbechara yearsofmanny yearsofssrasmanny dilbechara ssr ssrians sushantsinghrajput sushantsinghrajput sanjanasanghi',\n",
              "       'year of dil bechara without ssr ssr sushantsinghrajput',\n",
              "       'sushant singh rajput year of dilbechara without ssr month since cbi ha been investigating the ssr mysterious death case when will sushant get justice justiceforsushantsinghrajput boycottbollywood no exception',\n",
              "       'it s been year since the young star left u but he continues to shine bright in our memory ssr sushantsinghrajput ssrforever sushantsinghrajputfans bollywood bollywoodactor',\n",
              "       'cbienquiryforsushant justiceforsushant sushantsingrajput ssr sushant can t commit suicide it must be planned murder we want cbi enquiry for sushant singh rajpu',\n",
              "       'it s yr of dilbechara today celebratingyearsofdilbechara sushantsinghrajput dilbechara ssr',\n",
              "       'yr of dilbechara without ssr our dil bechara can t get over these heart warming melody celebratingyearsofdilbechara sushantsinghrajput dilbechara ssr',\n",
              "       'their honeymoon period got over when they kept mum too side of the wrong people got themselves exposure in narcotic etc during ssr tragedy amp the whole of the country saw that wo din aur aaj ka din see the difference',\n",
              "       'ram post pandemic audience test ha changed this is more bcz of ssr death and second reason is people hate bollywood people bcz during covid many people were dying of corona nd these called fake star were holidaying in maldives amp singapore',\n",
              "       'our dil bechara can t get over these heart warming melody celebratingyearsofdilbechara sushantsinghrajput sonymusicindia dilbechara ssr arrahman bollywoodsongs sanjanasanghi',\n",
              "       'yr of dilbechara without ssr ssr won world a manny let s celebrating manny who life in billion of heart his performance wa amazing a always we miss u we love you immanuel rajkumar junior dillbechara ssr',\n",
              "       'year of dil bechara dilbechara sushantsinghrajput ssr rvcjinsta rvcjmovies',\n",
              "       'the last time when we saw ssr on his favourite place a big screen a legend will never go anywhere',\n",
              "       'bollywood is killer of ssr',\n",
              "       'year of dil bechara sushantsinghrajput dilbechara ssr aayushman katiyar kurmi instapopular instagram instapost likesforlike share coment viralpost ssrforever',\n",
              "       'perfect morning with sush s inspiring quote ssr justiceforsushantsinghrajput',\n",
              "       'prakrutimishra reminds me of rheachakraborty supplying ganja and other drug blackmailing the guy separating him from his family and wife be great full your wife rescued you otherwise you would have turned in ssr part',\n",
              "       'he is much worried about getting real treatment gor bolly reel post ssr event',\n",
              "       'his name is sushant singh unfortunately ek ssr wa a dynamic star and this faltu is just a fatichar extra',\n",
              "       'sushant singh rajput ssr justice protest ha come so far that now the truth must prevail sushantsinghrajput ssr boycottbollywood',\n",
              "       'yash raj and dharma production are finished including all khan finished revenge of the audience for ssr',\n",
              "       'ssr fan trend at no sushant energy doing wonder on eve of dilbecharayears ssr sushantsinghrajput',\n",
              "       'sushantsinghrajput ssr curse is haunting bollywood since his murder all movie will open empty theater unless ssrforever murder are sent behind the bar justiceforssr',\n",
              "       'yrf made ssr leave a number of project for paani only to fire him and shelf the project yrf seems to have been cursed a all their film released after the death of ssr have been huge disaster bunty aur bubly jayeshbhai jordar pritviraj chauhan and now shamshera',\n",
              "       'sush you will be missed but we will keep you alive through your character your thought amp beautiful memory humara sushant humara manny ssr justiceforsushantsinghrajput dilbechara yearsofsushantasmanny',\n",
              "       'dil bechara mark two year late actor sushant singh rajput s fan trend sushant energy doing wonder dilbechara ssr sushantsinghrajput',\n",
              "       'he wa a complete gem i completely agree with this trend sushant energy doing wonder ssr sushantsinghrajput sushantsinghrajput',\n",
              "       'celebrating year of dilbechara sushantsinghrajput saifalikhan my fav one and it s really closed to my heart yearsofdilbechara ssr sanjanasanghi',\n",
              "       'when you do bad to a godly soul you pay for it in this life itself ssr',\n",
              "       'ssr every official of all investing agency dream of becoming member of a team investigating at least one case against big shot of bollywood once in life time their wealth inflates enough for their several generation with the opportunity to close the case unconcluded',\n",
              "       'a long a we stand strong for ssr amp continue awakening people about his work conspiracy behind his murder through digital forum offline medium joining the ground movement amp connecting more amp more people every day justiceforsushantsinghrajput will become an effect',\n",
              "       'a long a we stand strong for ssr amp continue awakening people about his work conspiracy behind his murder through digital forum offline medium joining the ground movement amp connecting more amp more people every day justiceforsushantsinghrajput will become an effect',\n",
              "       'cbienquiryforsushant justiceforsushant sushantsingrajput ssr sushant can t commit suicide it must be planned murder we want cbi enquiry for sushant singh rajpu',\n",
              "       'govt owes the public amp ssr fan a closure on his death no public outrage ha been a long amp sustained a the mysterious death of justiceforssr dishasallian jiahkhan india in',\n",
              "       'actually after ssr death s the way all the bigswigs of bollywood who kept their silence nepotism holding placard shameonbeinghindustani r real reason they r biting the dust amp i say we r loving it to see them down to dust',\n",
              "       'vue ssr simple a always vue ssr',\n",
              "       'boycott amp finish bollywood forever stop watching bollywood movie india demand justice for ssr',\n",
              "       'sushant energy doing wonder great work ssr army not only on social medium but offline also people are becoming aware of sushantsinghrajput s brutal murder by bullywood every step count every effort count way to go full video date may',\n",
              "       'sushant energy doing wonder great work ssr army not only on social medium but offline also people are becoming aware of sushantsinghrajput s brutal murder by bullywood every step count every effort count way to go full video date may',\n",
              "       'sushant energy doing wonder great work ssr army not only on social medium but offline also people are becoming aware of sushantsinghrajput s brutal murder by bullywood every step count every effort count way to go full video date may',\n",
              "       'oficeindian update about ssr amp ssmb mega combo',\n",
              "       'sushant energy doing wonder great work ssr army not only on social medium but offline also people are becoming aware of sushantsinghrajput s brutal murder by bullywood every step count every effort count way to go full video date may',\n",
              "       'engr gauravvashisth i thought you will have your principal and that principal won t let you visit such kind of horrific personality who have connection in the ssr murder case but you all sideline everything when it come to money and i pray how the entire bollywood collapsed in the same way',\n",
              "       'still waste of time and effort from ssr end',\n",
              "       'boycottbollywood cancer india boycott bollywood sushant singh rajput ha awakened the nation this is for ssr and our better present and future nobody need this antinational cartel bullyweed',\n",
              "       'ssr that transcendent being who manifested over from d realm to mortal world a an agent of change to enliven ethical to revitalize moral ssr s spirit winged many through his enlightening visionary his aspiring aura inspired many to b on d path of awakening ssr',\n",
              "       'precious ssr there are no write answer there are only better question ssr justiceforsushantsinghrajput',\n",
              "       'a girl in the name of ssr movement is fooling and misleading thousand of follower on youtube now she claim that modiji is a part of illum nati her urdu accent is a tip off that she is a pak and part of s g w f re team some people still believe her ssr',\n",
              "       'after ssr i have realised tht i will support those who r really talented and doing amazingly well in acting amp will spent my money only on those movie where they hv been casted atleast i will try to give my bit whr it is required so actor like kartikaryan should be supported',\n",
              "       'chandra shekhar azad wa one of the most revolutionary and liberal leader in indian history chandrashekharazad azadikaamritmahotsav chelsea ssr arpitamukherjee parthachatterjee romero',\n",
              "       'bipolar theory a false interpretation and narrative to cover up the truth and misleading information so go ahead to beg justice for injustice with ssr love you',\n",
              "       'mgt technology help to light up the power of your application we help to build the future with our gan technology have a look gigantically in performance with mgt technolog gan sic power electronics ssr galliumnitridecharger galliumnitride',\n",
              "       'write briefly in your tweet with tomorrow s ht which will suggested by di and please tag me under your tweet please share if you all agree to do this sushantsinghrajput ssr ssrians',\n",
              "       'hello everyone a we know tomorrow is yearsofsushantasmanny so i ve decided to celebrate this day in this way there are so many similarity between manny amp sushant lesson that sushant ha given u so how can you relate manny amp sushant ssr',\n",
              "       'check out retro bontrager ssr aluminium seat post in black mm used ebay via uk bontrager bontragerssr seatpost retrobuild retromountainbike mtb ssr cycle mountainbike bicycleaccessories cycleaccessories cycleparts bicycleparts',\n",
              "       'thank you guy remember if you spend money on bollywood movie that mock hindu god and goddess you are promoting pseudo secularism and destruction of hindu value and culture boycottshamshera hindusunderattack shamshera hinduphobic sushantsinghrajput ssr',\n",
              "       'today s youth icon ssr justiceforsushantsinghrajput',\n",
              "       'the most consistent sm warrior award really need to go to team ssr they ve managed to trend almost every day since year wonder how they manage',\n",
              "       'look at this what happened to this person modi ji seems kya taklif hai bhai kindly donate some clothes to him now i got to know y south movie on boom amp y bollywood blast all because of these disaster onlysushant ssr',\n",
              "       'cbienquiryforsushant justiceforsushant sushantsingrajput ssr sushant can t commit suicide it must be planned murder we want cbi enquiry for sushant singh rajpu',\n",
              "       'hoax gang continuously tweeted about mva ut au a if mva had involved in threatening ssr amp murdered him tweet of hoax gang million are unreal fake story zero evidence cbi will be silent with no statement ssr alive sc will have no second chance no',\n",
              "       'please include vastraharan of suparis of ssr dishasalian murder also specially her fiance rohan rai who wa in your custody justiceforsushantsinghrajput let the birthday party truth of baby penguin expose india left culprit irs',\n",
              "       'if south indian cinema people work with bollywood theywillalsoboycotted boycottbollywoodforever boycottbollywood ssr',\n",
              "       'namek goku from a single summon dokkan dbl ssj kakarot goku int ssr ur r',\n",
              "       'when the best actor is mentioned the only image that come to my mind is that of our all time favorite actor sushant singh rajput who may not be in this world anymore but his memory are always in our heart ssr sushantsinghrajput nationalfilmawards',\n",
              "       'perfect morning with sush s inspiring quote ssr justiceforsushantsinghrajput',\n",
              "       'many many happy return of the day dear ur dedication hardwork amp commitment is clearly evident in the ssr movement god bless u with good health happiness prosperity amp long life u r a beautiful soul keep d fight going sushant a class act',\n",
              "       'hindi this is a total disrespect to all other police force when you have a program only for mumbai police why so selective mumbai police could not even solve case ssr stop this chamchagiri of mumbai police and hindi film sushantsinghrajput lanat hai tum pe',\n",
              "       'ssr death ha actually led to the death of bollywood no two thing about it all big movie biting the dust one after the other',\n",
              "       'true indeed their final destination is boycottbollywood amp sushantsinghrajput and ssr army writing bullyweed s fate a disaster',\n",
              "       'just like our hero sushantsinghrajput there is and there can be only one such army the ssr army great work dear',\n",
              "       'cbienquiryforsushant justiceforsushant sushantsingrajput ssr sushant can t commit suicide it must be planned murder we want cbi enquiry for sushant singh rajpu',\n",
              "       'long live ssr south movie best',\n",
              "       'never thought that someone can inspire me for life someone can affect me for a lifetime many of u must have similar feeling ssr wa not an ordinary soul he wa born for a purpose to lead u to the path of truth let s move forward each day fulfilling our hero s dream',\n",
              "       'never thought that someone can inspire me for life someone can affect me for a lifetime many of u must have similar feeling ssr wa not an ordinary soul he wa born for a purpose to lead u to the path of truth let s move forward each day fulfilling our hero s dream',\n",
              "       'akkada shamshera ranbir kapoor ke intakanna pedda bokka padindi nagachaitanya thankyoumovie ne better even content wise and collection amp occupancy wise also ssr ni addam petrukoni wooden face actor kooda sixer kodtadu',\n",
              "       'very well said this is exactly ssr army is doing also we are proud to have army member like who have shown u the true side of fake mask be it politics bullyweed sport or paid medium let s support her amp ssrdrives and then apply our mind to find the truth',\n",
              "       'edge apis edge middlewares edge server rendering and much more discussed in the premiere of next next j overview middleware layout and more nextjs reactjs ssr dev',\n",
              "       'very well said this is exactly ssr army is doing also we are proud to have army member like who have shown u the true side of fake mask be it politics bullyweed sport or paid medium let s support her amp ssrdrives and then apply our mind to find the truth',\n",
              "       'his beautiful life amp his dream were murdered in few moment ssr had many dream to fulfil amp many more milestone to achieve even then in his limited lifespan he reached those height that a normal person can t even dream about will not let your culprit sleep peacefully',\n",
              "       'his beautiful life amp his dream were murdered in few moment ssr had many dream to fulfil amp many more milestone to achieve even then in his limited lifespan he reached those height that a normal person can t even dream about will not let your culprit sleep peacefully',\n",
              "       'boycottbollywood is our only choice bcoz our priority are justiceforsushantsinghrajput supporting ssr army saving our hard earned money to serve fellow citizen working on self development supporting real hero standing against bullywood amp medium cartel',\n",
              "       'i am very glad to announce my xth result i got thanks to my all teacher and this is a tribute to shushant singh rajput ssr whose movie motivated me a lot in study cbseresult',\n",
              "       'i specially went to theater to watch ssr movie where ever he is he must be feeling proud that his fan base is more genuine than all khan s khan s suck',\n",
              "       'look who is talking about humanity ssr disha murderer roaming free not betrayal of uddhav thackeray but aaditya thackeray attack rebel shiv sena legislator',\n",
              "       'fadnavis request justice for palgharsadhoos ssr and disha asap',\n",
              "       'it s amazing no one still know how he died ssr',\n",
              "       'bullywood is exposing itself in the literal sense now how low they can stoop they have sold their body soul relationship their everything for money ssr ha ensured bollywood s collapse just like their trash movie their clothes have also started disappearing now',\n",
              "       'bullywood is exposing itself in the literal sense now how low they can stoop they have sold their body soul relationship their everything for money ssr ha ensured bollywood s collapse just like their trash movie their clothes have also started disappearing now',\n",
              "       'bro u know about vijay he is also self made star like ssr don t nepotism to him we need justice for ssr',\n",
              "       'lyt so much pain for longs ssr possibly',\n",
              "       'ssr constantly used his privilege to help charity n he didn t act like other celebs sushant a class act',\n",
              "       'we encourage the administration to keep using ssr alongside tps to provide relief to refugee student',\n",
              "       'modern day contemporary james bondesque action film with a emotion driven story india s best emotional actor india s best maverick filmmaker ssr beast varisu',\n",
              "       'it s time to go on an adventure of your choice when you pick up a book and read the page within those page ss ssr fairytaler mattarhymes fairytale goosed adventure',\n",
              "       'hitandrun and blackbuck going to mumbaipolice for protection sidhumoosewala threat and ssr family wait for justice',\n",
              "       'who killed disha who killed ssr boycottbollywood',\n",
              "       'adarsh ha ha ha flop bollywood news give more happiness and joy ssr',\n",
              "       'cutest sush ssr justiceforsushantsinghrajput',\n",
              "       'it seems now it kartik aryan after ssr sushant the scenario is similar kartik recently outshined the rest of bollywood and kjoker the czar of mediocrity and nepotism brigade is all out to run him down koffeewithkaran sushantsinghrajput',\n",
              "       'met with the chief of police of basra governorate mg ali adnan to discus the mission s broad ranging civilian security sector reform ssr mandate possible future collaboration with the governorate read more',\n",
              "       'family believe ssr s phone were under accused control a a way to keep him isolated from fam amp well wishers now this is imp in the drug probe against rc pit etc ncb how is ncb buying their lie of pinning everything on the victim conspiracy cbi jawaab do inssrcase',\n",
              "       'seems a if it ssr sushantsinghrajput s curse on bollywood shamshera show cancelled on first day of release due to absence of audience from theater amp low occupancy',\n",
              "       'cbi if u fail to serve justice to ssr our cry for justice will bcome ur worst nightmare cbi jawab do inssrcase',\n",
              "       'the social medium and mum state machinery in india ha colluded to silence sushant s family amp u there is no doubt in our mind that ssr wa murdered the mupo want to sweep it under the carpet cbi jawaab do inssrcase',\n",
              "       'aayan khan drug issue and inaction of ssr murder case proved that bollywood is more powerful than ed and cbi even so the only way to counter them is to make them bankrupt no movie hall no tv nor product sponsored by them just boycottbollywood boycottshamshera',\n",
              "       'ssr see this instagram profile dear ssr ians doe it have to do anything with mysterious death claim but suspense death of many cine artist earlier this and last few year if yes then ssr lover need to act for her too',\n",
              "       'koushani see this instagram profile dear ssr ians doe it have to do anything with mysterious death claim but suspense death of many cine artist earlier this and last few year if yes then ssr lover need to act for her too',\n",
              "       'see this instagram profile dear ssr ians doe it have to do anything with mysterious death claim but suspense death of many cine artist earlier this and last few year if yes then ssr lover need to act for her too',\n",
              "       'why cbi delaying to complete the charge sheet in ssr case why political party are not intervening in the justice matter of ssr case cbi jawaab do inssrcase',\n",
              "       'got a gift for protecting ssr disha murderer',\n",
              "       'cbi close to yr of the ssr case being handed to the agency what r ur finding wrt the conspiracy leading up his murder behind d coverup behind slandering defaming him post his demise behind saving d mastermind culprit cbi jawab do inssrcase',\n",
              "       'ion ha been chosen the most by ssr hero selector last season ion is a telekinesist who fire rock toward enemy we can t wait to see what hero will attract your mind this season cryptoballz wemix popular ssr pe playtoearn idlegame crypto',\n",
              "       'we recently updated our thematic in practice page on defence reform to be sustainable international partner need to invest in people centric approach to defence reform ssr you can find it here',\n",
              "       'welcome vpn ssr shadowsocks vpn ssr shadowsock',\n",
              "       'see this instagram profile dear ssr ians doe it have to do anything with mysterious death claim but suspense death of many cine artist earlier this and last few year if yes then ssr lover need to act for her too',\n",
              "       'today why u need neel u joking right if u keep neel than u should keep nitesh for dangal it not abt box office number it abt the change ssr brought to indian cinema with bb amp world cinema with rrr',\n",
              "       'see this instagram profile dear ssr ians doe it have to do anything with mysterious death claim but suspense death of many cine artist earlier this and last few year if yes then sushantsinghrajput lover need to act',\n",
              "       'script writer actor khan of bollywood mafia subtly promote hinduphobia hindu were always strangulated by these islamofascist kafir hate movie it our time now to expose them boycottbollywood ssr kareenakapoorkhan ranveersingh ranbirkapoor shamshera',\n",
              "       'cbienquiryforsushant justiceforsushant sushantsingrajput ssr sushant can t commit suicide it must be planned murder we want cbi enquiry for sushant singh rajpu',\n",
              "       'link ssrians ssr ch verma is here',\n",
              "       'dil bechara x sushant x sanjana miss you ssr sushantsinghrajput sushant sushanthsinghrajput sanjanasanghi justicessr movement of mass cbi jawaab do inssrcase',\n",
              "       'saishi raqeshbapat shamitashetty rashamidesai anitahassanandani niasharma niasharma karanvirbohra mrunalthakur ssr kajalaggarwal kareenakapoorkhan rakulpreetsingh knock knock ishqhojayega is out drop in a comment like share n subscribe',\n",
              "       'cbi jawaab do inssrcase you may ignore our voice but you can t ignore the light our voice will bring even if you ignore somehow then you can not ignore the fire that light will bring upon you justicessr justiceforsushantsinghrajput sushantsinghrajput ssr ssrcase',\n",
              "       'sushantsingh fan check this both have many similarity with golden heart self made star dono apne dum par manzil ko pratt kiye hai pure soul i love ssr with all my heart he is frm my neighbour state bihar vijaydeverakonda sushantsinghrajput',\n",
              "       'we support justice for ssr penguin tu tho gaya ssr adityathackeray sushantsinghrajput',\n",
              "       'mark my word boycottbollywood is a trend sponsored by anti national there is a global agenda to degrade bollywood i don t think the face behind ssrians have clear intention boycottbollywoodforever ssr ssrians boycottshamshera',\n",
              "       'i am fan of ssr and my support only one reason i couldn t participate on trend bcz of his pic those pic tigger me badly then don t know why when he get justice that moment can t be imagine boycottbollywood sushantsinghrajput',\n",
              "       'so called ssr fan are trending again a shamshera gear up for release wonder where were they when poor guy had dud like sonchiriya raabta amp so many more flop ticket kharid ke picture dekhne ko maa mar rahi thi inki ab yahan lage hain boycottbollywood mein fdfsshamshera',\n",
              "       'the only thing that will make you happy is being happy with who you are happiness ssr justiceforsushantsinghrajput',\n",
              "       'cbi jawaab do inssrcase justicessr justiceforsushantsinghrajput sushantsinghrajput ssr ssrcase',\n",
              "       'perfect morning with sush s inspiring quote ssr justiceforsushantsinghrajput',\n",
              "       'sir this babypenguin is trying to flying i request you to please held him for raping amp murdering ssr dishasalian this kind of people are really ruining maharashtra amp whole india',\n",
              "       'eknathshinde sir this babypenguin is trying to flying i request you to please held him for raping amp murdering ssr dishasalian this kind of people are really ruining maharashtra amp whole india',\n",
              "       'warrior button no a per some source and reference the body of late sushant singh rajput had needle mark on neck know more at get the ssr warrior button at retweet max cbi jawaab do inssrcase g',\n",
              "       'warrior button no adv vikas singh look at the mark on his neck it a belt mark not a rope he told the bench know more at get the ssr warrior button at retweet max cbi jawaab do inssrcase g',\n",
              "       'warrior button no a per some source and reference the leg of late sushant singh rajput wa broken know more at get the ssr warrior button at retweet max cbi jawaab do inssrcase g nupurprasad',\n",
              "       'warrior button no the postmortem report of late sushant singh rajput wa flawed a per some report and source know more at get the ssr warrior button at retweet max cbi jawaab do inssrcase g',\n",
              "       'warrior button no space between the bed and ceiling fan in the room of sushant singh rajput wa insufficient to h know more at get the ssr warrior button at retweet max cbi jawaab do inssrcase g',\n",
              "       'warrior button no ssr s sister had not seen body of late sushant singh rajput in a hanging position know more at get the ssr warrior button at retweet max cbi jawaab do inssrcase nupurprasad g',\n",
              "       'warrior button no possibility probability reference and source which indicate that sushant singh rajput wa mu d red know more at get the ssr warrior button at retweet max cbi jawaab do inssrcase',\n",
              "       'u watching film r u r funding insulting hindu culture u funding murder in bollywood ssr u funding terrorism drug from pakistan bollywoodfundingterriostthroughdrugs u supporting selective antinational playcard activist jnu support scjudge nupursharma bear',\n",
              "       'boycottkhanhood justiceforssr boycottnasidebollywood boycottthesebollywooddavoodgang bollywoodfundingterriostthroughdrugs boycottnepotismbollywood audience responsible for death ssr u r watching nepo kid film u r funding terrorist through drug',\n",
              "       'ka favorite sorry ssr you had too much pride n honor boycottbollywoodforever',\n",
              "       'kya karen aise bikhariyon ka crore flat all from ssr looted movie',\n",
              "       'boycottbollywood becomes an integral part by default of justicessr justicessrmovementofmasses boycottshamshera boycottbrahmastra boycottlalsinghchadda ssr justiceforssr sushantsinghrajput sushantsinghrajput team delhirakshak',\n",
              "       'psychic ssr ians and right wing dumbheads are single handedly destroying bollywood industry for their material gain they are also answerable to million of stakeholder of film sector a majority of them are hindu too boycottshamshera shamshera ssr ssrians',\n",
              "       'stans ssr will take minimum year if he ha to do hollywood movie and another year for vfx work',\n",
              "       'cbienquiryforsushant justiceforsushant sushantsingrajput ssr sushant can t commit suicide it must be planned murder we want cbi enquiry for sushant singh rajpu',\n",
              "       'all bollywood star now below poverty line power of ssr',\n",
              "       'true not even raised his voice in ssr',\n",
              "       'it wa purely to grab more eye ball there is nothing to take that seriously for me only pan india star at this point are the director whether it is ssr rkh slb or prashanthneel they can make any ordinary star to pan india superstar',\n",
              "       'why tf are we seeing these dumbfcuks trending justiceforsushantsinghrajput justicessr sushantsinghrajput ssr ssrcase',\n",
              "       'make it happen break the system make it trend justicessr justiceforsushantsinghrajput sushantsinghrajput ssr ssrcase',\n",
              "       'russo bros about rrr amp ssr', 'russo bros about rrr amp ssr',\n",
              "       'such minion who will come amp go on regular basis if paid will also make a exact opposite video of this just in the amount should higher than paid this video rather wasting time on such desperate money grubbing random fellow should focus on valuable thing ssr dishasalian',\n",
              "       'long live ssr but his bot',\n",
              "       'bollywood should organize garun puran katha for sushantsinghrajput only garun puran can save bollywood because ssr fan trend bycottbollywood after every bollywood release boycottshamshera sushantsinghrajput salmankhan pathaan shamshera ssrforever',\n",
              "       'day sushant singh rajput trend fact check of why is ssr still trending q is soch by mohak mangal exposed q why did mohak mangal lie about the justice for sushant singh rajput sir movement watch',\n",
              "       'reactjs devs do you use server side rendering ssr or pre generate a static site experienced hydration error from html not matching your react app my latest blog post suggests a better solution reactjs npm javascript github opensource ssr',\n",
              "       'justice for ssr amp amrapaliflatowners when',\n",
              "       'fan moment ssr justiceforsushantsinghrajput',\n",
              "       'that wa inevitable after ssr s demise and post episode',\n",
              "       'ssr sushant sushantsinghrajput sushantsinghrajput justiceforssr justicessr movement of mass',\n",
              "       'dear how long will it take to bring murderer and their protector to justice what role baby penguin played in ssr murder people have right to know',\n",
              "       'sameet fadnavis shinde ji fadnavis ji two important thing justice for palghar issue justice for ssr antarctic arctic mammal must be in zoo',\n",
              "       'don t waste money on shamshera film cz we can use that money to give food to needy we can plant we can buy pencil eraser for toddler orphanage we can give t shirt to a kid we can feed stray dog cat we can buy our harghartiranga ssr boycottbollywood',\n",
              "       'got full working wc rest api store cart and checkout vuejs vite ssr headless',\n",
              "       'q s cbi entertaining people from bollywood why when will un caged parrot file chargesheet in ssr case association when will ssr get justice justicessr movement of mass janta working hard people in power please act',\n",
              "       'boycottbollywood ha affected them greatly now they re moving to promote their movie amir always mock hinduism bollywood is dead dont try to bring these druggyweedians into south boycottbollywood hindutva ssr',\n",
              "       'what else one can expect from k ller s of ssr and they can never produce good talented art never',\n",
              "       'when cbi going to inform about ssr investigation been yr since they are on this case bhagwadharis',\n",
              "       'sir a a common man of bharat i implore you to seek justice for sushantsinghrajput every single criminal involved must be published with the full force of the law justiceforsushantsinghrajput ssr',\n",
              "       'congratulation move on until justice to be done for the peace of our shining in sky high like dhruv om shanti divine soul ssr jssr',\n",
              "       'ssrians stay prepared to hear similar verdict on ssr case justicessr movement of mass',\n",
              "       'cbienquiryforsushant justiceforsushant sushantsingrajput ssr sushant can t commit suicide it must be planned murder we want cbi enquiry for sushant singh rajpu',\n",
              "       'sushant wa murdered every person in this world asking justice for court recommended cbi team in ssr case but case is going like snail cbi losing out faith in law and regulation justicessr movement of mass',\n",
              "       'sir the day south cinema start hiring bollywoodactors bollywoodactress from that day you will see new low of south cinema with boycott in prefix don t even think to hire boycottbollywood boycottsalmankhan boycottbachans ssr justiceforsushantsinghrajput',\n",
              "       'who is that minister attended the party with which ssr his friend and disha all murder are linked',\n",
              "       'perfect morning with sush s inspiring quote ssr justiceforsushantsinghrajput',\n",
              "       'calling all radres save the date for the bwh fellowship program open house a fun night of interacting with our pd amp hearing about our program thurs aug pm est register here radxx radiology imaging thoracicrad aser ssr abdrad',\n",
              "       'sushant harbinger of change breakingnews bollywood ed file money laundering charge against movie toilet producer prernaarora producing film like akshaykumar starrer movie toilet padman rustom and ssr movie kedarnath producer who charged fraud r crore',\n",
              "       'sushant harbinger of change breakingnews bollywood ed file money laundering charge against movie toilet producer prernaarora producing film like akshaykumar starrer movie toilet padman rustom and ssr movie kedarnath producer who charged fraud r crore',\n",
              "       'maryadaramanna such a beautiful film in his entire filmography ssrajamouli ssr sunil sunil and then magadheera rc ramcharan kajalaggarwal',\n",
              "       'seems underworld criminal gang took over bollywood central amp state govts should look into it actress tanushree is complaining of threat and ssr murder still fresh in memory',\n",
              "       'well shouldn t you be thankful for the same since ssr is trending you are able to make such b video and continue minting money in his name',\n",
              "       'ssr murder and baby penguin connection should be probed people murdered and udhav s police try to show it a suicide all link to a party which ha a connection of the baby penguin if it s true then the qn come doe the murderer or their saviour deserve our support',\n",
              "       'sushant harbinger of change sushant ke post motem krne wale cooper hospital ke doctor namm dr sachinsonawane ne bataya sushant ke body per injury ke nissan thee percent clear hai dr ke statement ssr murder huwa hai preetipandey',\n",
              "       'sushant harbinger of change sushant ke post motem krne wale cooper hospital ke doctor namm dr sachinsonawane ne bataya sushant ke body per injury ke nissan thee percent clear hai dr ke statement ssr murder huwa hai preetipandey',\n",
              "       'and he still rule ssr sushantsinghrajput sushantsinghrajput',\n",
              "       'this is where your incomplete oversimplified fact lacking biased research belongs sushant ka justice hoga uski sister jeetengi u din hum jeetenge tab banana ek why ssr wa one of the most important public movement in a democracy',\n",
              "       'cbienquiryforsushant justiceforsushant sushantsingrajput ssr sushant can t commit suicide it must be planned murder we want cbi enquiry for sushant singh rajpu',\n",
              "       'to sushant harbinger of change fact check of why is ssr still trending q is soch by mohak mangal exposed q why did mohak mangal lie about the justice for sushant singh rajput sir movement watch this video',\n",
              "       'a qt to sushant harbinger of change fact check of why is ssr still trending q is soch by mohak mangal exposed q why did mohak mangal lie about the justice for sushant singh rajput sir movement watch',\n",
              "       'to sushant harbinger of change fact check of why is ssr still trending q is soch by mohak mangal exposed q why did mohak mangal lie about the justice for sushant singh rajput sir movement watch',\n",
              "       'why is ssr still trending because his justice is long due have you seen the pain in his sister s eye ssr will trend because sushant harbinger of change',\n",
              "       'hope keep u going even when conviction fails and that s what we call love ssr',\n",
              "       'a qt to sushant harbinger of change fact check of why is ssr still trending q is soch by mohak mangal exposed q why did mohak mangal lie about the justice for sushant singh rajput sir movement watch',\n",
              "       'to sushant harbinger of change fact check of why is ssr still trending q is soch by mohak mangal exposed q why did mohak mangal lie about the justice for sushant singh rajput sir movement watch',\n",
              "       'a qt to baradkar sushant harbinger of change fact check of why is ssr still trending q is soch by mohak mangal exposed q why did mohak mangal lie about the justice for sushant singh rajput sir movement watch',\n",
              "       'a qt to sushant harbinger of change fact check of why is ssr still trending q is soch by mohak mangal exposed q why did mohak mangal lie about the justice for sushant singh rajput sir movement watch',\n",
              "       'to sushant harbinger of change fact check of why is ssr still trending q is soch by mohak mangal exposed q why did mohak mangal lie about the justice for sushant singh rajput sir movement watch',\n",
              "       'sushant harbinger of change fact check of why is ssr still trending q is soch by mohak mangal exposed q why did mohak mangal lie about the justice for sushant singh rajput sir movement watch',\n",
              "       'sushant harbinger of change fact check of why is ssr still trending q is soch by mohak mangal exposed about the justice for sushant singh rajput sir movement watch',\n",
              "       'contd partialhanging ssr wa kneeling on the bed he put his head in the noose and pressed down with weight of head only kg pressure cause occlusion of jugular vein rising venous pressure inside head stop circulation causing asphyxiation euphoria follows',\n",
              "       'after defeat of karan johar s jjj aadhi chopra who consipired w johar amp khan against hindi belt hero ssr is trying to rescue his dismal situation with another group of punjabi kapoors and tada sanjay dutt in anti hindu shamshera it too ll be crushed boycottbollywoodforever',\n",
              "       'why is ssr still trending watch'], dtype=object)"
            ]
          },
          "metadata": {},
          "execution_count": 46
        }
      ]
    },
    {
      "cell_type": "code",
      "source": [
        "# Lets calculate the Polarity of the Reviews\n",
        "def get_polarity(text):\n",
        "    textblob = TextBlob(str(text))\n",
        "    pol = textblob.sentiment.polarity\n",
        "    if(pol==0):\n",
        "        return \"Neutral\"\n",
        "    elif(pol>0 and pol<=0.3):\n",
        "        return \"Weakly Positive\"\n",
        "    elif(pol>0.3 and pol<=0.6):\n",
        "        return \"Positive\"\n",
        "    elif(pol>0.6 and pol<=1):\n",
        "        return \"Strongly Positive\"\n",
        "    elif(pol>-0.3 and pol<=0):\n",
        "        return \"Weakly Negative\"\n",
        "    elif(pol>-0.6 and pol<=-0.3):\n",
        "        return \"Negative\"\n",
        "    elif(pol>-1 and pol<=-0.6):\n",
        "        return \"Strongly Negative\"\n",
        "    \n",
        "tweet_df['polarity'] = tweet_df['cleaned_data'].apply(get_polarity)"
      ],
      "metadata": {
        "id": "R9FHpDwFQWkm"
      },
      "execution_count": 50,
      "outputs": []
    },
    {
      "cell_type": "code",
      "source": [
        "tweet_df['polarity'].value_counts()"
      ],
      "metadata": {
        "colab": {
          "base_uri": "https://localhost:8080/"
        },
        "id": "yjRs3NENQXND",
        "outputId": "a92687b2-ab4d-41b6-bf19-4f1029590e30"
      },
      "execution_count": 51,
      "outputs": [
        {
          "output_type": "execute_result",
          "data": {
            "text/plain": [
              "Neutral              157\n",
              "Weakly Positive       79\n",
              "Positive              56\n",
              "Weakly Negative       52\n",
              "Negative              25\n",
              "Strongly Positive     19\n",
              "Strongly Negative      4\n",
              "Name: polarity, dtype: int64"
            ]
          },
          "metadata": {},
          "execution_count": 51
        }
      ]
    },
    {
      "cell_type": "code",
      "source": [
        "tweet_df.dtypes"
      ],
      "metadata": {
        "colab": {
          "base_uri": "https://localhost:8080/"
        },
        "id": "sN8OMlgJQXPU",
        "outputId": "f70cede8-b084-4049-ca2f-1b9b87b1009e"
      },
      "execution_count": 52,
      "outputs": [
        {
          "output_type": "execute_result",
          "data": {
            "text/plain": [
              "0               object\n",
              "cleaned_data    object\n",
              "polarity        object\n",
              "dtype: object"
            ]
          },
          "metadata": {},
          "execution_count": 52
        }
      ]
    },
    {
      "cell_type": "code",
      "source": [
        "neutral = 0\n",
        "wpositive = 0\n",
        "spositive = 0\n",
        "positive = 0\n",
        "negative = 0\n",
        "wnegative = 0\n",
        "snegative = 0\n",
        "polarity = 0\n",
        "\n",
        "for i in range(392):\n",
        "    textblob = TextBlob(str(tweet_df['cleaned_data'][i]))\n",
        "    polarity+= textblob.sentiment.polarity\n",
        "    pol = textblob.sentiment.polarity\n",
        "    if (pol == 0):  # adding reaction of how people are reacting to find average later\n",
        "        neutral += 1\n",
        "    elif (pol > 0 and pol <= 0.3):\n",
        "        wpositive += 1\n",
        "    elif (pol > 0.3 and pol <= 0.6):\n",
        "        positive += 1\n",
        "    elif (pol > 0.6 and pol <= 1):\n",
        "        spositive += 1\n",
        "    elif (pol > -0.3 and pol <= 0):\n",
        "        wnegative += 1\n",
        "    elif (pol > -0.6 and pol <= -0.3):\n",
        "        negative += 1\n",
        "    elif (pol > -1 and pol <= -0.6):\n",
        "        snegative += 1"
      ],
      "metadata": {
        "id": "4QcU0JF8QXRx"
      },
      "execution_count": 53,
      "outputs": []
    },
    {
      "cell_type": "code",
      "source": [
        "NoOfTerms = 392"
      ],
      "metadata": {
        "id": "r66pzttSQ1f1"
      },
      "execution_count": 58,
      "outputs": []
    },
    {
      "cell_type": "code",
      "source": [
        "# finding average reaction\n",
        "polarity = polarity / NoOfTerms\n",
        "polarity"
      ],
      "metadata": {
        "colab": {
          "base_uri": "https://localhost:8080/"
        },
        "id": "0UPWdZvdQXVm",
        "outputId": "fb69ef00-6c22-4efc-bcbb-de1ef2c7f3f8"
      },
      "execution_count": 59,
      "outputs": [
        {
          "output_type": "execute_result",
          "data": {
            "text/plain": [
              "0.00020241189489110281"
            ]
          },
          "metadata": {},
          "execution_count": 59
        }
      ]
    },
    {
      "cell_type": "code",
      "source": [
        "def percentage(part, whole):\n",
        "    temp = 100 * float(part) / float(whole)\n",
        "    return format(temp, '.2f')"
      ],
      "metadata": {
        "id": "YqmVgdwCQXXT"
      },
      "execution_count": 60,
      "outputs": []
    },
    {
      "cell_type": "code",
      "source": [
        " # finding average of how people are reacting\n",
        "positive = percentage(positive, NoOfTerms)\n",
        "wpositive = percentage(wpositive, NoOfTerms)\n",
        "spositive = percentage(spositive, NoOfTerms)\n",
        "negative = percentage(negative, NoOfTerms)\n",
        "wnegative = percentage(wnegative, NoOfTerms)\n",
        "snegative = percentage(snegative, NoOfTerms)\n",
        "neutral = percentage(neutral, NoOfTerms)\n"
      ],
      "metadata": {
        "id": "DCaDg-2hQygK"
      },
      "execution_count": 61,
      "outputs": []
    },
    {
      "cell_type": "code",
      "source": [
        "# printing out data\n",
        "print(\"How people are reacting on \" + searchTerm + \" by analyzing \" + str(NoOfTerms) + \" tweets.\")\n",
        "print()\n",
        "print(\"-----------------------------------------------------------------------------------------\")\n",
        "print()\n",
        "print(\"General Report: \")\n",
        "\n",
        "if (polarity == 0):\n",
        "    print(\"Neutral\")\n",
        "elif (polarity > 0 and polarity <= 0.3):\n",
        "    print(\"Weakly Positive\")\n",
        "elif (polarity > 0.3 and polarity <= 0.6):\n",
        "    print(\"Positive\")\n",
        "elif (polarity > 0.6 and polarity <= 1):\n",
        "    print(\"Strongly Positive\")\n",
        "elif (polarity > -0.3 and polarity <= 0):\n",
        "    print(\"Weakly Negative\")\n",
        "elif (polarity > -0.6 and polarity <= -0.3):\n",
        "    print(\"Negative\")\n",
        "elif (polarity > -1 and polarity <= -0.6):\n",
        "    print(\"Strongly Negative\")\n",
        "\n",
        "print()\n",
        "print(\"------------------------------------------------------------------------------------------\")\n",
        "print()\n",
        "print(\"Detailed Report: \")\n",
        "print(str(positive) + \"% people thought it was positive\")\n",
        "print(str(wpositive) + \"% people thought it was weakly positive\")\n",
        "print(str(spositive) + \"% people thought it was strongly positive\")\n",
        "print(str(negative) + \"% people thought it was negative\")\n",
        "print(str(wnegative) + \"% people thought it was weakly negative\")\n",
        "print(str(snegative) + \"% people thought it was strongly negative\")\n",
        "print(str(neutral) + \"% people thought it was neutral\")"
      ],
      "metadata": {
        "colab": {
          "base_uri": "https://localhost:8080/"
        },
        "id": "cXunUk1eQXZF",
        "outputId": "c7c872a2-7ac3-4a89-8226-c99dc7d98b77"
      },
      "execution_count": 62,
      "outputs": [
        {
          "output_type": "stream",
          "name": "stdout",
          "text": [
            "How people are reacting on ssr by analyzing 392 tweets.\n",
            "\n",
            "-----------------------------------------------------------------------------------------\n",
            "\n",
            "General Report: \n",
            "Weakly Positive\n",
            "\n",
            "------------------------------------------------------------------------------------------\n",
            "\n",
            "Detailed Report: \n",
            "14.29% people thought it was positive\n",
            "20.15% people thought it was weakly positive\n",
            "4.85% people thought it was strongly positive\n",
            "6.38% people thought it was negative\n",
            "13.27% people thought it was weakly negative\n",
            "1.02% people thought it was strongly negative\n",
            "40.05% people thought it was neutral\n"
          ]
        }
      ]
    },
    {
      "cell_type": "code",
      "source": [
        "sizes = [positive, wpositive, spositive, neutral, negative, wnegative, snegative]\n",
        "colors = ['yellowgreen','lightgreen','darkgreen', 'gold', 'red','lightsalmon','darkred']\n",
        "labels = ['Positive [' + str(positive) + '%]', 'Weakly Positive [' + str(wpositive) + '%]',\n",
        "          'Strongly Positive [' + str(spositive) + '%]', 'Neutral [' + str(neutral) + '%]',\n",
        "          'Negative [' + str(negative) + '%]', 'Weakly Negative [' + str(wnegative) + '%]', \n",
        "          'Strongly Negative [' + str(snegative) + '%]']"
      ],
      "metadata": {
        "id": "5hacreq2Q9Gg"
      },
      "execution_count": 63,
      "outputs": []
    },
    {
      "cell_type": "code",
      "source": [
        "plt.pie(sizes, labels = labels, colors = colors)\n",
        "plt.legend(labels, loc=\"best\")\n",
        "plt.title('How people are reacting on ' + searchTerm + ' by analyzing ' + str(NoOfTerms) + ' Tweets.')\n",
        "plt.axis('equal')\n",
        "plt.tight_layout()\n",
        "plt.show()"
      ],
      "metadata": {
        "colab": {
          "base_uri": "https://localhost:8080/",
          "height": 297
        },
        "id": "ZEkAkfxtRDXq",
        "outputId": "73684554-c472-45c9-f4f0-638fdd0ba062"
      },
      "execution_count": 64,
      "outputs": [
        {
          "output_type": "display_data",
          "data": {
            "text/plain": [
              "<Figure size 432x288 with 1 Axes>"
            ],
            "image/png": "[encoded data removed]"
          },
          "metadata": {}
        }
      ]
    }
  ]
}